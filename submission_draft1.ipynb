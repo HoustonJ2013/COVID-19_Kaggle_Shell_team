{
 "cells": [
  {
   "cell_type": "markdown",
   "metadata": {},
   "source": [
    "# Risk factor for COVID-19\n",
    "\n",
    "Author: Jingbo Liu, Tina Zhao, Yinsen Miao, Jenny Yang  \n",
    "\n",
    "Main strategy: we used the \"key words\" + \"elastic search\" to find out the most relavant papers from the database. Then, based on the match score from high to low. We provided: (1) important selected papers; (2) manully extract tables and numbers from the top 3 papers for each risk factor described below. \n",
    "\n",
    "## Content Summary\n",
    "\n",
    "### 1. behavioral risk factors\n",
    "1. Smoking\n",
    "2. Drinking\n",
    "3. exposure to seafood market\n",
    "\n",
    "### 2. exisiting diseases/co-morbidities\n",
    "1. respiratory disease\n",
    "2. cardiovascular disease\n",
    "3. chronic disease, including high blood pressure, diabetes, malignancy\n",
    "4. Other\n",
    "\n",
    "### 3. Demographic characterisics\n",
    "1. Age\n",
    "2. Gender\n",
    "3. Occupation\n",
    "4. pregnancy\n",
    "5. socio-economic status\n",
    "\n",
    "### 4. COVID-19 characteristics\n",
    "1. patient number, deaths number\n",
    "2. incubation period\n",
    "3. symptom"
   ]
  },
  {
   "cell_type": "code",
   "execution_count": 6,
   "metadata": {},
   "outputs": [],
   "source": [
    "###set up elastic search portal\n",
    "import logging\n",
    "from elasticsearch import Elasticsearch, helpers\n",
    "import pandas as pd\n",
    "\n",
    "# es = Elasticsearch(\n",
    "#     hosts=[{\"hosts\":\"99:44.95.175\", \"port\":9200}], \n",
    "#     request_timeout=12000)\n",
    "# index_name = \"covid-kaggle\"\n",
    "# doc_type = \"pdf_json\"\n",
    "\n",
    "\n",
    "from datetime import datetime\n",
    "from elasticsearch import Elasticsearch, helpers\n",
    "es = Elasticsearch(\n",
    "    hosts=[{'host': \"99.44.95.175\", 'port': 9200}])"
   ]
  },
  {
   "cell_type": "code",
   "execution_count": 7,
   "metadata": {},
   "outputs": [
    {
     "name": "stdout",
     "output_type": "stream",
     "text": [
      "There are 39706 of ids on the elasticsearch server\n"
     ]
    }
   ],
   "source": [
    "## check total paper numbers\n",
    "query = { \n",
    "    'size' : 10000,\n",
    "    \"query\" : { \n",
    "        \"match_all\" : {} \n",
    "    },\n",
    "    \"stored_fields\": []\n",
    "}\n",
    "a=helpers.scan(es,query=query,scroll='1m',index='covid-kaggle')#like others so far\n",
    "all_es_ids=[aa['_id'] for aa in a]\n",
    "print(\"There are %i of ids on the elasticsearch server\"%(len(all_es_ids)))"
   ]
  },
  {
   "cell_type": "code",
   "execution_count": 8,
   "metadata": {},
   "outputs": [],
   "source": [
    "##define functions used for query\n",
    "def es_extract(hits):\n",
    "    scores = []\n",
    "    paper_ids = []\n",
    "    publish_years = []\n",
    "    titles = []\n",
    "    abstracts = []\n",
    "    sources = []\n",
    "    for hit in hits:\n",
    "        scores.append(hit[\"_score\"])\n",
    "        paper_ids.append(hit[\"_source\"][\"paper_id\"])\n",
    "        publish_years.append(hit[\"_source\"][\"publish_year\"])\n",
    "        titles.append(hit[\"_source\"][\"metadata\"][\"title\"])\n",
    "        abstracts.append(\" \".join([tem_[\"text\"] for tem_ in hit[\"_source\"][\"abstract\"]]))\n",
    "        sources.append(hit[\"_source\"])\n",
    "\n",
    "    return scores, paper_ids, publish_years, titles, abstracts, sources \n",
    "\n",
    "def es_equery(es, query, index='covid-kaggle', doc_type=\"pdf_json\"):\n",
    "    '''\n",
    "    accept : es connection and query doc\n",
    "    return : dataframe with paper_id, match_scores, publish_year, titles, abstracts, json_contents\n",
    "    '''\n",
    "    res3 = es.search(index=index, doc_type=doc_type, body=query)\n",
    "    print(\"There are %i of papers returned\"%(res3[\"hits\"][\"total\"][\"value\"]))\n",
    "    \n",
    "    scores, paper_ids, publish_years, titles, abstracts, sources  = es_extract(res3[\"hits\"][\"hits\"])\n",
    "    df_return = pd.DataFrame.from_dict({\n",
    "        \"paper_id\": paper_ids, \n",
    "        \"match_scores\": scores, \n",
    "        \"publish_years\": publish_years, \n",
    "        \"title\": titles, \n",
    "        \"abstract\": abstracts, \n",
    "        \"json_obj\": sources\n",
    "    })\n",
    "    return df_return"
   ]
  },
  {
   "cell_type": "code",
   "execution_count": 23,
   "metadata": {},
   "outputs": [],
   "source": [
    "def build_doc(keyword):\n",
    "    '''\n",
    "    keywords could be one string, or a list with multiple string\n",
    "    \n",
    "    '''\n",
    "    \n",
    "    doc = {\n",
    "        'query': {\n",
    "            \"bool\":{\n",
    "                \"must\":\n",
    "                   [{\"match\": {\"abstract.text\": \"risk\"}},  \n",
    "                    {\"match\": {\"body_text.text\":\"covid-19\"}},\n",
    "                    {\"match\": {\"body_text.text\": \"noval coronavirus\"}},\n",
    "                    {\"match\": {\"body_text.text\": \"risk\"}},\n",
    "                    {\"match\": {\"body_text.text\": keyword}},\n",
    "                    {\"match\": {\"body_text.text\": \"2019-ncov\"}},\n",
    "                    {\"match\": {\"body_text.text\": \"sars coronavirus 2\"}},\n",
    "                    {\"match\": {\"body_text.text\": \"sars-cov-2\"}},\n",
    "                    {\"match\": {\"body_text.text\": \"coronavirus\"}}\n",
    "                    ], \n",
    "                \"should\":\n",
    "                [  {\"match\": {\"abstract.text\":\"corona\\w{1, 3}virus\"}}, \n",
    "                   {\"match\": {\"abstract.text\":\"covid-19\"}}, \n",
    "                   {\"match\": {\"metadata.title\":\"corona\\w{1, 3}virus\"}}, \n",
    "                   {\"match\": {\"metadata.title\":\"covid-19\"}}, \n",
    "                ], \n",
    "                \"minimum_should_match\" : 1,\n",
    "            }\n",
    "        }\n",
    "    }\n",
    "    \n",
    "    return doc"
   ]
  },
  {
   "cell_type": "code",
   "execution_count": 12,
   "metadata": {},
   "outputs": [
    {
     "name": "stdout",
     "output_type": "stream",
     "text": [
      "(47298, 18)\n"
     ]
    }
   ],
   "source": [
    "#load meta.csv for summary of database\n",
    "meta_csv = pd.read_csv(\"metadata.csv\")\n",
    "print(meta_csv.shape)"
   ]
  },
  {
   "cell_type": "code",
   "execution_count": 15,
   "metadata": {},
   "outputs": [
    {
     "data": {
      "text/html": [
       "<div>\n",
       "<style scoped>\n",
       "    .dataframe tbody tr th:only-of-type {\n",
       "        vertical-align: middle;\n",
       "    }\n",
       "\n",
       "    .dataframe tbody tr th {\n",
       "        vertical-align: top;\n",
       "    }\n",
       "\n",
       "    .dataframe thead th {\n",
       "        text-align: right;\n",
       "    }\n",
       "</style>\n",
       "<table border=\"1\" class=\"dataframe\">\n",
       "  <thead>\n",
       "    <tr style=\"text-align: right;\">\n",
       "      <th></th>\n",
       "      <th>cord_uid</th>\n",
       "      <th>sha</th>\n",
       "      <th>source_x</th>\n",
       "      <th>title</th>\n",
       "      <th>doi</th>\n",
       "      <th>pmcid</th>\n",
       "      <th>pubmed_id</th>\n",
       "      <th>license</th>\n",
       "      <th>abstract</th>\n",
       "      <th>publish_time</th>\n",
       "      <th>authors</th>\n",
       "      <th>journal</th>\n",
       "      <th>Microsoft Academic Paper ID</th>\n",
       "      <th>WHO #Covidence</th>\n",
       "      <th>has_pdf_parse</th>\n",
       "      <th>has_pmc_xml_parse</th>\n",
       "      <th>full_text_file</th>\n",
       "      <th>url</th>\n",
       "    </tr>\n",
       "  </thead>\n",
       "  <tbody>\n",
       "    <tr>\n",
       "      <td>0</td>\n",
       "      <td>8q5ondtn</td>\n",
       "      <td>NaN</td>\n",
       "      <td>Elsevier</td>\n",
       "      <td>Intrauterine virus infections and congenital h...</td>\n",
       "      <td>10.1016/0002-8703(72)90077-4</td>\n",
       "      <td>NaN</td>\n",
       "      <td>4361535.0</td>\n",
       "      <td>els-covid</td>\n",
       "      <td>Abstract The etiologic basis for the vast majo...</td>\n",
       "      <td>1972-12-31</td>\n",
       "      <td>Overall, James C.</td>\n",
       "      <td>American Heart Journal</td>\n",
       "      <td>NaN</td>\n",
       "      <td>NaN</td>\n",
       "      <td>False</td>\n",
       "      <td>False</td>\n",
       "      <td>custom_license</td>\n",
       "      <td>https://doi.org/10.1016/0002-8703(72)90077-4</td>\n",
       "    </tr>\n",
       "    <tr>\n",
       "      <td>1</td>\n",
       "      <td>pzfd0e50</td>\n",
       "      <td>NaN</td>\n",
       "      <td>Elsevier</td>\n",
       "      <td>Coronaviruses in Balkan nephritis</td>\n",
       "      <td>10.1016/0002-8703(80)90355-5</td>\n",
       "      <td>NaN</td>\n",
       "      <td>6243850.0</td>\n",
       "      <td>els-covid</td>\n",
       "      <td>NaN</td>\n",
       "      <td>1980-03-31</td>\n",
       "      <td>Georgescu, Leonida; Diosi, Peter; Buţiu, Ioan;...</td>\n",
       "      <td>American Heart Journal</td>\n",
       "      <td>NaN</td>\n",
       "      <td>NaN</td>\n",
       "      <td>False</td>\n",
       "      <td>False</td>\n",
       "      <td>custom_license</td>\n",
       "      <td>https://doi.org/10.1016/0002-8703(80)90355-5</td>\n",
       "    </tr>\n",
       "    <tr>\n",
       "      <td>2</td>\n",
       "      <td>22bka3gi</td>\n",
       "      <td>NaN</td>\n",
       "      <td>Elsevier</td>\n",
       "      <td>Cigarette smoking and coronary heart disease: ...</td>\n",
       "      <td>10.1016/0002-8703(80)90356-7</td>\n",
       "      <td>NaN</td>\n",
       "      <td>7355701.0</td>\n",
       "      <td>els-covid</td>\n",
       "      <td>NaN</td>\n",
       "      <td>1980-03-31</td>\n",
       "      <td>Friedman, Gary D</td>\n",
       "      <td>American Heart Journal</td>\n",
       "      <td>NaN</td>\n",
       "      <td>NaN</td>\n",
       "      <td>False</td>\n",
       "      <td>False</td>\n",
       "      <td>custom_license</td>\n",
       "      <td>https://doi.org/10.1016/0002-8703(80)90356-7</td>\n",
       "    </tr>\n",
       "  </tbody>\n",
       "</table>\n",
       "</div>"
      ],
      "text/plain": [
       "   cord_uid  sha  source_x                                              title  \\\n",
       "0  8q5ondtn  NaN  Elsevier  Intrauterine virus infections and congenital h...   \n",
       "1  pzfd0e50  NaN  Elsevier                  Coronaviruses in Balkan nephritis   \n",
       "2  22bka3gi  NaN  Elsevier  Cigarette smoking and coronary heart disease: ...   \n",
       "\n",
       "                            doi pmcid  pubmed_id    license  \\\n",
       "0  10.1016/0002-8703(72)90077-4   NaN  4361535.0  els-covid   \n",
       "1  10.1016/0002-8703(80)90355-5   NaN  6243850.0  els-covid   \n",
       "2  10.1016/0002-8703(80)90356-7   NaN  7355701.0  els-covid   \n",
       "\n",
       "                                            abstract publish_time  \\\n",
       "0  Abstract The etiologic basis for the vast majo...   1972-12-31   \n",
       "1                                                NaN   1980-03-31   \n",
       "2                                                NaN   1980-03-31   \n",
       "\n",
       "                                             authors                 journal  \\\n",
       "0                                  Overall, James C.  American Heart Journal   \n",
       "1  Georgescu, Leonida; Diosi, Peter; Buţiu, Ioan;...  American Heart Journal   \n",
       "2                                   Friedman, Gary D  American Heart Journal   \n",
       "\n",
       "   Microsoft Academic Paper ID WHO #Covidence  has_pdf_parse  \\\n",
       "0                          NaN            NaN          False   \n",
       "1                          NaN            NaN          False   \n",
       "2                          NaN            NaN          False   \n",
       "\n",
       "   has_pmc_xml_parse  full_text_file  \\\n",
       "0              False  custom_license   \n",
       "1              False  custom_license   \n",
       "2              False  custom_license   \n",
       "\n",
       "                                            url  \n",
       "0  https://doi.org/10.1016/0002-8703(72)90077-4  \n",
       "1  https://doi.org/10.1016/0002-8703(80)90355-5  \n",
       "2  https://doi.org/10.1016/0002-8703(80)90356-7  "
      ]
     },
     "execution_count": 15,
     "metadata": {},
     "output_type": "execute_result"
    }
   ],
   "source": [
    "meta_csv.head(3)"
   ]
  },
  {
   "cell_type": "markdown",
   "metadata": {},
   "source": [
    "## 1. Behavioral Risk Factors\n",
    "\n"
   ]
  },
  {
   "cell_type": "markdown",
   "metadata": {},
   "source": [
    "### 1.1 Smoking"
   ]
  },
  {
   "cell_type": "code",
   "execution_count": 25,
   "metadata": {},
   "outputs": [
    {
     "name": "stdout",
     "output_type": "stream",
     "text": [
      "There are 10 of papers returned\n"
     ]
    }
   ],
   "source": [
    "#query\n",
    "smoke_df = es_equery(es, build_doc(keyword=\"smoking\"))"
   ]
  },
  {
   "cell_type": "code",
   "execution_count": 44,
   "metadata": {},
   "outputs": [
    {
     "name": "stdout",
     "output_type": "stream",
     "text": [
      "There are 0 of papers returned\n"
     ]
    }
   ],
   "source": [
    "#query\n",
    "smoke_df = es_equery(es, build_doc(keyword=\"vaping\"))"
   ]
  },
  {
   "cell_type": "code",
   "execution_count": 43,
   "metadata": {},
   "outputs": [
    {
     "data": {
      "text/html": [
       "<div>\n",
       "<style scoped>\n",
       "    .dataframe tbody tr th:only-of-type {\n",
       "        vertical-align: middle;\n",
       "    }\n",
       "\n",
       "    .dataframe tbody tr th {\n",
       "        vertical-align: top;\n",
       "    }\n",
       "\n",
       "    .dataframe thead th {\n",
       "        text-align: right;\n",
       "    }\n",
       "</style>\n",
       "<table border=\"1\" class=\"dataframe\">\n",
       "  <thead>\n",
       "    <tr style=\"text-align: right;\">\n",
       "      <th></th>\n",
       "      <th>paper_id</th>\n",
       "      <th>match_scores</th>\n",
       "      <th>publish_years</th>\n",
       "      <th>title</th>\n",
       "      <th>abstract</th>\n",
       "      <th>json_obj</th>\n",
       "    </tr>\n",
       "  </thead>\n",
       "  <tbody>\n",
       "    <tr>\n",
       "      <td>0</td>\n",
       "      <td>aafa6cdfe96a5cdaf7b7c2f04b11a5dbdd73b2df</td>\n",
       "      <td>54.171986</td>\n",
       "      <td>2020</td>\n",
       "      <td>Incidence, clinical characteristics and progno...</td>\n",
       "      <td>Background: Recently, Coronavirus Disease 2019...</td>\n",
       "      <td>{'paper_id': 'aafa6cdfe96a5cdaf7b7c2f04b11a5db...</td>\n",
       "    </tr>\n",
       "    <tr>\n",
       "      <td>1</td>\n",
       "      <td>bf013151c39358fb0c19ad4dee802a9ccb7fb0ac</td>\n",
       "      <td>48.682587</td>\n",
       "      <td>2020</td>\n",
       "      <td>ACE-2 Expression in the Small Airway Epithelia...</td>\n",
       "      <td>All of these institutions are in Vancouver, Br...</td>\n",
       "      <td>{'paper_id': 'bf013151c39358fb0c19ad4dee802a9c...</td>\n",
       "    </tr>\n",
       "    <tr>\n",
       "      <td>2</td>\n",
       "      <td>1a48450da54865731ffe01c0e289a63065b3b1fd</td>\n",
       "      <td>46.779774</td>\n",
       "      <td>2020</td>\n",
       "      <td>Risk Factors Associated with Clinical Outcomes...</td>\n",
       "      <td>With evidence of sustained transmission in mor...</td>\n",
       "      <td>{'paper_id': '1a48450da54865731ffe01c0e289a630...</td>\n",
       "    </tr>\n",
       "  </tbody>\n",
       "</table>\n",
       "</div>"
      ],
      "text/plain": [
       "                                   paper_id  match_scores publish_years  \\\n",
       "0  aafa6cdfe96a5cdaf7b7c2f04b11a5dbdd73b2df     54.171986          2020   \n",
       "1  bf013151c39358fb0c19ad4dee802a9ccb7fb0ac     48.682587          2020   \n",
       "2  1a48450da54865731ffe01c0e289a63065b3b1fd     46.779774          2020   \n",
       "\n",
       "                                               title  \\\n",
       "0  Incidence, clinical characteristics and progno...   \n",
       "1  ACE-2 Expression in the Small Airway Epithelia...   \n",
       "2  Risk Factors Associated with Clinical Outcomes...   \n",
       "\n",
       "                                            abstract  \\\n",
       "0  Background: Recently, Coronavirus Disease 2019...   \n",
       "1  All of these institutions are in Vancouver, Br...   \n",
       "2  With evidence of sustained transmission in mor...   \n",
       "\n",
       "                                            json_obj  \n",
       "0  {'paper_id': 'aafa6cdfe96a5cdaf7b7c2f04b11a5db...  \n",
       "1  {'paper_id': 'bf013151c39358fb0c19ad4dee802a9c...  \n",
       "2  {'paper_id': '1a48450da54865731ffe01c0e289a630...  "
      ]
     },
     "execution_count": 43,
     "metadata": {},
     "output_type": "execute_result"
    }
   ],
   "source": [
    "smoke_df.head(3)"
   ]
  },
  {
   "cell_type": "code",
   "execution_count": 16,
   "metadata": {},
   "outputs": [
    {
     "name": "stdout",
     "output_type": "stream",
     "text": [
      "42078    https://doi.org/10.1101/2020.03.17.20037572\n",
      "Name: url, dtype: object\n",
      "42112    https://doi.org/10.1101/2020.03.18.20038455\n",
      "Name: url, dtype: object\n",
      "42326    https://doi.org/10.1101/2020.03.25.20037721\n",
      "Name: url, dtype: object\n"
     ]
    }
   ],
   "source": [
    "for paper_id in smoke_df[\"paper_id\"].head(3):\n",
    "    print(meta_csv[meta_csv[\"sha\"] == paper_id][\"url\"])"
   ]
  },
  {
   "cell_type": "markdown",
   "metadata": {},
   "source": [
    "#### Paper: https://doi.org/10.1101/2020.03.17.20037572\n",
    "\n",
    "The first paper with the highest match_score is a meta-analysis study which combines more than 30 studies with 53000 patients included. This paper has provided a comprehensive discussion about the risk factors, symptoms, and lab test results among COVID-19 patients. Summarized as below:"
   ]
  },
  {
   "cell_type": "markdown",
   "metadata": {},
   "source": [
    "| COVID-19 | metric | 95%CI | SARS | MERS |\n",
    "| --- | --- | --- | --- | --- |\n",
    "| Smoking (%) | 6.4 | 0.0 - 12.9 | 17 | 23 |\n",
    "| Age (avg. years) | 49.8 | 47.5 - 52.2 | 39.9 | 50 |\n",
    "| Male (%) | 55.5 | 53.2 - 57.7 | 43 | 64.5 |\n",
    "| Incubation Time (days) | 7.10 | 6.06 - 8.14 | --- | --- |\n",
    "| days from symptom onset to hospital admission (days) | 6.18 | 5.23 - 7.12 | --- | --- |"
   ]
  },
  {
   "cell_type": "markdown",
   "metadata": {},
   "source": [
    "| Comorbidity | percentage | 95%CI | SARS | MERS |\n",
    "| --- | --- | --- | --- | --- |\n",
    "| Any comorbidity | 37.1 | 28.1 - 46.1 | 10 - 30* | 76 |\n",
    "| Hypertension | 19.0 | 13.2 - 24.9 | 19 | 34 |\n",
    "| diabetes | 8.2 | 6.3 - 10.0 | 24 | 68 |\n",
    "| cardiovascular disease | 2.7 | 1.4 - 4.1 | 10 | 28 |\n",
    "| COPD | 0.6 | 0.3 - 0.9 | --- | --- |\n",
    "| CKD | 0.4 | 0.1 - 0.7 | 2 - 6* | 49 |\n",
    "| Cancer | 0.8 | 0.1 - 1.5 | 3 | 2 |\n",
    "\n",
    "Note:  \n",
    "COPD: chronic obstructive pulmonary disease  \n",
    "CKD: chronic kidney disease\n"
   ]
  },
  {
   "cell_type": "markdown",
   "metadata": {},
   "source": [
    "### 1.2 drinking\n",
    "\n",
    "No significant paper talk about drinking/alcohol usage information. However, drinking alcohol is proved to show significant relation with many chronic disease, such as diabete and hypertenison, and cardiovascular disease."
   ]
  },
  {
   "cell_type": "code",
   "execution_count": 26,
   "metadata": {},
   "outputs": [
    {
     "name": "stdout",
     "output_type": "stream",
     "text": [
      "There are 1 of papers returned\n"
     ]
    }
   ],
   "source": [
    "#query\n",
    "drink_df = es_equery(es, build_doc(keyword = \"drink\"))"
   ]
  },
  {
   "cell_type": "code",
   "execution_count": 27,
   "metadata": {},
   "outputs": [
    {
     "data": {
      "text/html": [
       "<div>\n",
       "<style scoped>\n",
       "    .dataframe tbody tr th:only-of-type {\n",
       "        vertical-align: middle;\n",
       "    }\n",
       "\n",
       "    .dataframe tbody tr th {\n",
       "        vertical-align: top;\n",
       "    }\n",
       "\n",
       "    .dataframe thead th {\n",
       "        text-align: right;\n",
       "    }\n",
       "</style>\n",
       "<table border=\"1\" class=\"dataframe\">\n",
       "  <thead>\n",
       "    <tr style=\"text-align: right;\">\n",
       "      <th></th>\n",
       "      <th>paper_id</th>\n",
       "      <th>match_scores</th>\n",
       "      <th>publish_years</th>\n",
       "      <th>title</th>\n",
       "      <th>abstract</th>\n",
       "      <th>json_obj</th>\n",
       "    </tr>\n",
       "  </thead>\n",
       "  <tbody>\n",
       "    <tr>\n",
       "      <td>0</td>\n",
       "      <td>7fadc31f532d97c2f2317c05237e5d17833a0381</td>\n",
       "      <td>12.762307</td>\n",
       "      <td>2019</td>\n",
       "      <td>Review Challenges in the diagnosis of paediatr...</td>\n",
       "      <td>Pneumonia is a leading killer of children youn...</td>\n",
       "      <td>{'paper_id': '7fadc31f532d97c2f2317c05237e5d17...</td>\n",
       "    </tr>\n",
       "  </tbody>\n",
       "</table>\n",
       "</div>"
      ],
      "text/plain": [
       "                                   paper_id  match_scores publish_years  \\\n",
       "0  7fadc31f532d97c2f2317c05237e5d17833a0381     12.762307          2019   \n",
       "\n",
       "                                               title  \\\n",
       "0  Review Challenges in the diagnosis of paediatr...   \n",
       "\n",
       "                                            abstract  \\\n",
       "0  Pneumonia is a leading killer of children youn...   \n",
       "\n",
       "                                            json_obj  \n",
       "0  {'paper_id': '7fadc31f532d97c2f2317c05237e5d17...  "
      ]
     },
     "execution_count": 27,
     "metadata": {},
     "output_type": "execute_result"
    }
   ],
   "source": [
    "drink_df"
   ]
  },
  {
   "cell_type": "markdown",
   "metadata": {},
   "source": [
    "### 1.3 Seafood market exposure\n",
    "\n",
    "Though the early identified few patients show enrichment of seafood market exposure history, but later on, it is confirmed that person-to-person transmission occurs."
   ]
  },
  {
   "cell_type": "code",
   "execution_count": 30,
   "metadata": {},
   "outputs": [
    {
     "name": "stdout",
     "output_type": "stream",
     "text": [
      "There are 34 of papers returned\n"
     ]
    }
   ],
   "source": [
    "exposure_df = es_equery(es, build_doc(keyword=\"seafood market\"))"
   ]
  },
  {
   "cell_type": "code",
   "execution_count": 34,
   "metadata": {},
   "outputs": [
    {
     "name": "stdout",
     "output_type": "stream",
     "text": [
      "45476    https://doi.org/10.1016/s0140-6736(20)30566-3\n",
      "Name: url, dtype: object\n",
      "42872    https://doi.org/10.1097/cm9.0000000000000782\n",
      "Name: url, dtype: object\n",
      "47079    https://doi.org/10.1016/j.ijid.2020.03.017\n",
      "Name: url, dtype: object\n"
     ]
    }
   ],
   "source": [
    "for paper_id in exposure_df[\"paper_id\"].head(3):\n",
    "    print(meta_csv[meta_csv[\"sha\"] == paper_id][\"url\"])"
   ]
  },
  {
   "cell_type": "markdown",
   "metadata": {},
   "source": [
    "## 2. Co-morbidities\n"
   ]
  },
  {
   "cell_type": "markdown",
   "metadata": {},
   "source": [
    "### 2.1 cardiovascular disease"
   ]
  },
  {
   "cell_type": "code",
   "execution_count": 41,
   "metadata": {},
   "outputs": [
    {
     "name": "stdout",
     "output_type": "stream",
     "text": [
      "There are 116 of papers returned\n"
     ]
    }
   ],
   "source": [
    "CD = es_equery(es, build_doc(keyword=\"cardiovascular disease\"))"
   ]
  },
  {
   "cell_type": "code",
   "execution_count": 40,
   "metadata": {},
   "outputs": [
    {
     "name": "stdout",
     "output_type": "stream",
     "text": [
      "45476    https://doi.org/10.1016/s0140-6736(20)30566-3\n",
      "Name: url, dtype: object\n",
      "42078    https://doi.org/10.1101/2020.03.17.20037572\n",
      "Name: url, dtype: object\n",
      "41754    https://doi.org/10.1101/2020.02.28.20028514\n",
      "Name: url, dtype: object\n"
     ]
    }
   ],
   "source": [
    "for paper_id in CD[\"paper_id\"].head(3):\n",
    "    print(meta_csv[meta_csv[\"sha\"] == paper_id][\"url\"])"
   ]
  },
  {
   "cell_type": "markdown",
   "metadata": {},
   "source": [
    "## Interface develop"
   ]
  },
  {
   "cell_type": "code",
   "execution_count": 5,
   "metadata": {},
   "outputs": [],
   "source": [
    "import ipywidgets as widgets\n",
    "from IPython.display import display"
   ]
  },
  {
   "cell_type": "code",
   "execution_count": 15,
   "metadata": {},
   "outputs": [
    {
     "name": "stdout",
     "output_type": "stream",
     "text": [
      "\n"
     ]
    }
   ],
   "source": [
    "from gensim.summarization import summarize, keywords\n",
    "def sen2keywords(sentence):\n",
    "       return  keywords(sentence)\n",
    "\n",
    "output = sen2keywords(\"Is vascular disease a risk factor of COVID-19?\")\n",
    "print(output)"
   ]
  },
  {
   "cell_type": "code",
   "execution_count": 16,
   "metadata": {},
   "outputs": [
    {
     "data": {
      "text/plain": [
       "'natural language\\nmachine\\nfrequently'"
      ]
     },
     "execution_count": 16,
     "metadata": {},
     "output_type": "execute_result"
    }
   ],
   "source": [
    "text = 'Challenges in natural language processing frequently involve speech recognition, natural language understanding, natural language generation (frequently from formal, machine-readable logical forms), connecting language and machine perception, dialog systems, or some combination thereof.'\n",
    "keywords(text)"
   ]
  },
  {
   "cell_type": "markdown",
   "metadata": {},
   "source": [
    "### simple version"
   ]
  },
  {
   "cell_type": "code",
   "execution_count": 7,
   "metadata": {},
   "outputs": [
    {
     "data": {
      "application/vnd.jupyter.widget-view+json": {
       "model_id": "e660b076de094a59a95e502ebc33902c",
       "version_major": 2,
       "version_minor": 0
      },
      "text/plain": [
       "Combobox(value='', description='Question:', ensure_option=True, options=('What are the risk factors of COVID-1…"
      ]
     },
     "metadata": {},
     "output_type": "display_data"
    },
    {
     "name": "stdout",
     "output_type": "stream",
     "text": [
      "Keywords\n"
     ]
    }
   ],
   "source": [
    "text = widgets.Combobox(\n",
    "\n",
    "    placeholder='Type your question here...',\n",
    "    options=['What are the risk factors of COVID-19?', \n",
    "             'Is smoking a risk factor for COVID-19?', \n",
    "             'Is cardiovascular disease a risk factor for COVID-19?'],\n",
    "    description='Question:',\n",
    "    ensure_option=True,\n",
    "    disabled=False\n",
    ")\n",
    "\n",
    "\n",
    "\n",
    "def process_question(text):\n",
    "    questions = text.value\n",
    "    keywords = sen2keywords(questions)\n",
    "    print(\"Keywords\" + keywords)\n",
    "    \n",
    "text.on_submit(process_question)\n",
    "text"
   ]
  },
  {
   "cell_type": "code",
   "execution_count": 106,
   "metadata": {},
   "outputs": [
    {
     "ename": "AttributeError",
     "evalue": "'Combobox' object has no attribute 'items'",
     "output_type": "error",
     "traceback": [
      "\u001b[1;31m---------------------------------------------------------------------------\u001b[0m",
      "\u001b[1;31mAttributeError\u001b[0m                            Traceback (most recent call last)",
      "\u001b[1;32m<ipython-input-106-942053f39d06>\u001b[0m in \u001b[0;36m<module>\u001b[1;34m\u001b[0m\n\u001b[0;32m     19\u001b[0m \u001b[1;33m\u001b[0m\u001b[0m\n\u001b[0;32m     20\u001b[0m \u001b[1;31m#text\u001b[0m\u001b[1;33m\u001b[0m\u001b[1;33m\u001b[0m\u001b[1;33m\u001b[0m\u001b[0m\n\u001b[1;32m---> 21\u001b[1;33m \u001b[0mwidgets\u001b[0m\u001b[1;33m.\u001b[0m\u001b[0minteractive_output\u001b[0m\u001b[1;33m(\u001b[0m \u001b[0mprocess_question\u001b[0m\u001b[1;33m,\u001b[0m \u001b[0mtext\u001b[0m\u001b[1;33m)\u001b[0m\u001b[1;33m\u001b[0m\u001b[1;33m\u001b[0m\u001b[0m\n\u001b[0m\u001b[0;32m     22\u001b[0m \u001b[0mout\u001b[0m\u001b[1;33m\u001b[0m\u001b[1;33m\u001b[0m\u001b[0m\n\u001b[0;32m     23\u001b[0m \u001b[1;31m#display(text)\u001b[0m\u001b[1;33m\u001b[0m\u001b[1;33m\u001b[0m\u001b[1;33m\u001b[0m\u001b[0m\n",
      "\u001b[1;32m~\\AppData\\Local\\Continuum\\anaconda3\\lib\\site-packages\\ipywidgets\\widgets\\interaction.py\u001b[0m in \u001b[0;36minteractive_output\u001b[1;34m(f, controls)\u001b[0m\n\u001b[0;32m     79\u001b[0m             \u001b[0mf\u001b[0m\u001b[1;33m(\u001b[0m\u001b[1;33m**\u001b[0m\u001b[0mkwargs\u001b[0m\u001b[1;33m)\u001b[0m\u001b[1;33m\u001b[0m\u001b[1;33m\u001b[0m\u001b[0m\n\u001b[0;32m     80\u001b[0m             \u001b[0mshow_inline_matplotlib_plots\u001b[0m\u001b[1;33m(\u001b[0m\u001b[1;33m)\u001b[0m\u001b[1;33m\u001b[0m\u001b[1;33m\u001b[0m\u001b[0m\n\u001b[1;32m---> 81\u001b[1;33m     \u001b[1;32mfor\u001b[0m \u001b[0mk\u001b[0m\u001b[1;33m,\u001b[0m\u001b[0mw\u001b[0m \u001b[1;32min\u001b[0m \u001b[0mcontrols\u001b[0m\u001b[1;33m.\u001b[0m\u001b[0mitems\u001b[0m\u001b[1;33m(\u001b[0m\u001b[1;33m)\u001b[0m\u001b[1;33m:\u001b[0m\u001b[1;33m\u001b[0m\u001b[1;33m\u001b[0m\u001b[0m\n\u001b[0m\u001b[0;32m     82\u001b[0m         \u001b[0mw\u001b[0m\u001b[1;33m.\u001b[0m\u001b[0mobserve\u001b[0m\u001b[1;33m(\u001b[0m\u001b[0mobserver\u001b[0m\u001b[1;33m,\u001b[0m \u001b[1;34m'value'\u001b[0m\u001b[1;33m)\u001b[0m\u001b[1;33m\u001b[0m\u001b[1;33m\u001b[0m\u001b[0m\n\u001b[0;32m     83\u001b[0m     \u001b[0mshow_inline_matplotlib_plots\u001b[0m\u001b[1;33m(\u001b[0m\u001b[1;33m)\u001b[0m\u001b[1;33m\u001b[0m\u001b[1;33m\u001b[0m\u001b[0m\n",
      "\u001b[1;31mAttributeError\u001b[0m: 'Combobox' object has no attribute 'items'"
     ]
    }
   ],
   "source": [
    "text = widgets.Combobox(\n",
    "\n",
    "    placeholder='Type your question here...',\n",
    "    options=['What are the risk factors of COVID-19?', \n",
    "             'Is smoking a risk factor for COVID-19?', \n",
    "             'Is cardiovascular disease a risk factor for COVID-19?'],\n",
    "    description='Question:',\n",
    "    ensure_option=True,\n",
    "    disabled=False\n",
    ")\n",
    "\n",
    "\n",
    "def process_question(text):\n",
    "    questions = text.value\n",
    "    print(\"Answer: \" + questions[:3])\n",
    "    \n",
    "    \n",
    "text.on_submit(process_question)\n",
    "\n",
    "#text\n",
    "widgets.interactive_output( process_question, text)\n",
    "out\n",
    "#display(text)\n",
    "#print(text.value)"
   ]
  },
  {
   "cell_type": "markdown",
   "metadata": {},
   "source": [
    "### complex version"
   ]
  },
  {
   "cell_type": "code",
   "execution_count": 109,
   "metadata": {},
   "outputs": [
    {
     "data": {
      "text/plain": [
       "'Ask question about COVID-19'"
      ]
     },
     "metadata": {},
     "output_type": "display_data"
    },
    {
     "data": {
      "application/vnd.jupyter.widget-view+json": {
       "model_id": "e8dd7fbb5fa740d8b4d94e357dc596d5",
       "version_major": 2,
       "version_minor": 0
      },
      "text/plain": [
       "GridspecLayout(children=(Combobox(value='', description='Question:', ensure_option=True, layout=Layout(grid_ar…"
      ]
     },
     "metadata": {},
     "output_type": "display_data"
    }
   ],
   "source": [
    "from ipywidgets import AppLayout, Button, Layout, GridspecLayout, Output\n",
    "\n",
    "grid = GridspecLayout(4,2, height = \"400px\", width = \"800px\")\n",
    "# grid[0, 0:] = widgets.Image(\n",
    "#     value=image,\n",
    "#     format='png',\n",
    "#     width=800,\n",
    "#     height=400)\n",
    "\n",
    "display(\"Ask question about COVID-19\")\n",
    "\n",
    "grid[1, 0] = widgets.Combobox(\n",
    "\n",
    "    placeholder='Type or select your question here...',\n",
    "    options=['What are the risk factors of COVID-19?', \n",
    "             'Is smoking a risk factor for COVID-19?', \n",
    "             'Is cardiovascular disease a risk factor for COVID-19?'],\n",
    "    description='Question:',\n",
    "    ensure_option=True,\n",
    "    disabled=False\n",
    ")\n",
    "grid[2, 0] =  widgets.RadioButtons(\n",
    "    options=['1', '3', '5'],\n",
    "    value='3', # Defaults to 'pineapple'\n",
    "    layout={'width': 'max-content'}, # If the items' names are long\n",
    "    description='# of papers',\n",
    "    disabled=False\n",
    ")\n",
    "\n",
    "grid[2, 1] = widgets.RadioButtons(\n",
    "    options=['3', '5', '7'],\n",
    "    value='3', # Defaults to 'pineapple'\n",
    "    layout={'width': 'max-content'}, # If the items' names are long\n",
    "    description='# of sentences',\n",
    "    disabled=False\n",
    ")\n",
    "\n",
    "#out = widgets.Output(layout={'border': '1px solid black'})\n",
    "#out.append_display_data(display(text))\n",
    "\n",
    "#grid[3, 0:] = out\n",
    "#grid[3, :].append_stdout('Output appended with append_stdout')\n",
    "#grid[3, :].append_display_data(on_submit(process_question))\n",
    "#header_button = Button(description = 'Ask your question Here', button_style = 'primary', font_weight = 30)\n",
    "#left_button = Button(description = 'Left', button_style = 'info')\n",
    "#center_button = create_expanded_button('Center', 'warning')\n",
    "grid\n",
    "\n"
   ]
  },
  {
   "cell_type": "code",
   "execution_count": 80,
   "metadata": {},
   "outputs": [
    {
     "data": {
      "application/vnd.jupyter.widget-view+json": {
       "model_id": "243958ee39c848b1bfd3a07fcac61e4b",
       "version_major": 2,
       "version_minor": 0
      },
      "text/plain": [
       "Button(description='Custom color', style=ButtonStyle(button_color='lightgreen'))"
      ]
     },
     "metadata": {},
     "output_type": "display_data"
    }
   ],
   "source": [
    "b1 = Button(description='Custom color')\n",
    "b1.style.button_color = 'lightgreen'\n",
    "b1"
   ]
  },
  {
   "cell_type": "markdown",
   "metadata": {},
   "source": [
    "### tkinter usage"
   ]
  },
  {
   "cell_type": "code",
   "execution_count": 82,
   "metadata": {},
   "outputs": [],
   "source": [
    "import tkinter as tk\n",
    "\n",
    "master = tk.Tk()\n",
    "tk.Label(master, text=\"Type question here\").grid(row=0)\n",
    "tk.Label(master, text=\"Last Name\").grid(row=1)\n",
    "\n",
    "e1 = tk.Entry(master)\n",
    "e2 = tk.Entry(master)\n",
    "\n",
    "e1.grid(row=0, column=1)\n",
    "e2.grid(row=1, column=1)\n",
    "\n",
    "master.mainloop()"
   ]
  },
  {
   "cell_type": "markdown",
   "metadata": {},
   "source": [
    "### interactive output"
   ]
  },
  {
   "cell_type": "code",
   "execution_count": 103,
   "metadata": {},
   "outputs": [
    {
     "data": {
      "application/vnd.jupyter.widget-view+json": {
       "model_id": "eb33d9c709b54a95a46e5a34b55971db",
       "version_major": 2,
       "version_minor": 0
      },
      "text/plain": [
       "Output()"
      ]
     },
     "metadata": {},
     "output_type": "display_data"
    }
   ],
   "source": [
    "a = widgets.IntSlider(description='a')\n",
    "b = widgets.IntSlider(description='b')\n",
    "c = widgets.IntSlider(description='c')\n",
    "def f(a, b, c):\n",
    "    print('{}*{}*{}={}'.format(a, b, c, a*b*c))\n",
    "\n",
    "out = widgets.interactive_output(f, {'a': a, 'b': b, 'c': c})\n",
    "out\n",
    "#widgets.HBox([widgets.VBox([a, b, c]), out])"
   ]
  },
  {
   "cell_type": "code",
   "execution_count": null,
   "metadata": {},
   "outputs": [],
   "source": []
  }
 ],
 "metadata": {
  "kernelspec": {
   "display_name": "Python 3",
   "language": "python",
   "name": "python3"
  },
  "language_info": {
   "codemirror_mode": {
    "name": "ipython",
    "version": 3
   },
   "file_extension": ".py",
   "mimetype": "text/x-python",
   "name": "python",
   "nbconvert_exporter": "python",
   "pygments_lexer": "ipython3",
   "version": "3.7.4"
  }
 },
 "nbformat": 4,
 "nbformat_minor": 2
}
