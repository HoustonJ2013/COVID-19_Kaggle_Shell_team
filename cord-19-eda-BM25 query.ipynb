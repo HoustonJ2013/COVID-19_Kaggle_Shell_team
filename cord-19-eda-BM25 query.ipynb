{
 "cells": [
  {
   "cell_type": "markdown",
   "metadata": {},
   "source": [
    "## This section shows how to use both the text from four json folders and meta data to do a query to search for the information we need"
   ]
  },
  {
   "cell_type": "code",
   "execution_count": 3,
   "metadata": {
    "_cell_guid": "b1076dfc-b9ad-4769-8c92-a6c4dae69d19",
    "_uuid": "8f2839f25d086af736a60e9eeb907d3b93b6e0e5"
   },
   "outputs": [],
   "source": [
    "import os\n",
    "import json\n",
    "from pprint import pprint\n",
    "from copy import deepcopy\n",
    "\n",
    "import numpy as np\n",
    "import pandas as pd\n",
    "from tqdm.notebook import tqdm\n",
    "from subprocess import check_output"
   ]
  },
  {
   "cell_type": "markdown",
   "metadata": {},
   "source": [
    "###  Part 1: **Load all json and convert to dataframe**\n",
    "This part can be run in Kaggle. However when doing the tokenizer, the kernel stopped due to memory limit reached.\n",
    "So it's shown below to demonstrate how to do it. But some parts will be commented out so they are not excuted for the submission"
   ]
  },
  {
   "cell_type": "code",
   "execution_count": null,
   "metadata": {},
   "outputs": [],
   "source": [
    "# this part use functions from kernel CORD-19-EDA,parse JSON and generate clean csv\n",
    "# https://www.kaggle.com/xhlulu/cord-19-eda-parse-json-and-generate-clean-csv\n",
    "def format_name(author):\n",
    "    middle_name = \" \".join(author['middle'])\n",
    "    \n",
    "    if author['middle']:\n",
    "        return \" \".join([author['first'], middle_name, author['last']])\n",
    "    else:\n",
    "        return \" \".join([author['first'], author['last']])\n",
    "\n",
    "def format_affiliation(affiliation):\n",
    "    text = []\n",
    "    location = affiliation.get('location')\n",
    "    if location:\n",
    "        text.extend(list(affiliation['location'].values()))\n",
    "    \n",
    "    institution = affiliation.get('institution')\n",
    "    if institution:\n",
    "        text = [institution] + text\n",
    "    return \", \".join(text)\n",
    "\n",
    "def format_authors(authors, with_affiliation=False):\n",
    "    name_ls = []\n",
    "    \n",
    "    for author in authors:\n",
    "        name = format_name(author)\n",
    "        if with_affiliation:\n",
    "            affiliation = format_affiliation(author['affiliation'])\n",
    "            if affiliation:\n",
    "                name_ls.append(f\"{name} ({affiliation})\")\n",
    "            else:\n",
    "                name_ls.append(name)\n",
    "        else:\n",
    "            name_ls.append(name)\n",
    "    \n",
    "    return \", \".join(name_ls)\n",
    "\n",
    "def format_body(body_text):\n",
    "    texts = [(di['section'], di['text']) for di in body_text]\n",
    "    texts_di = {di['section']: \"\" for di in body_text}\n",
    "    \n",
    "    for section, text in texts:\n",
    "        texts_di[section] += text\n",
    "\n",
    "    body = \"\"\n",
    "\n",
    "    for section, text in texts_di.items():\n",
    "        body += section\n",
    "        body += \"\\n\\n\"\n",
    "        body += text\n",
    "        body += \"\\n\\n\"\n",
    "    \n",
    "    return body\n",
    "\n",
    "def format_bib(bibs):\n",
    "    if type(bibs) == dict:\n",
    "        bibs = list(bibs.values())\n",
    "    bibs = deepcopy(bibs)\n",
    "    formatted = []\n",
    "    \n",
    "    for bib in bibs:\n",
    "        bib['authors'] = format_authors(\n",
    "            bib['authors'], \n",
    "            with_affiliation=False\n",
    "        )\n",
    "        formatted_ls = [str(bib[k]) for k in ['title', 'authors', 'venue', 'year']]\n",
    "        formatted.append(\", \".join(formatted_ls))\n",
    "\n",
    "    return \"; \".join(formatted)\n",
    "\n",
    "def load_files(dirname):\n",
    "    filenames = os.listdir(dirname)\n",
    "    raw_files = []\n",
    "\n",
    "    for filename in tqdm(filenames):\n",
    "        filename = dirname + filename\n",
    "        file = json.load(open(filename, 'rb'))\n",
    "        raw_files.append(file)\n",
    "    \n",
    "    return raw_files\n",
    "\n",
    "def generate_clean_df(all_files):\n",
    "    cleaned_files = []\n",
    "    \n",
    "    for file in tqdm(all_files):\n",
    "        features = [\n",
    "            file['paper_id'],\n",
    "            file['metadata']['title'],\n",
    "            format_authors(file['metadata']['authors']),\n",
    "            format_authors(file['metadata']['authors'], \n",
    "                           with_affiliation=True),\n",
    "            format_body(file['abstract']),\n",
    "            format_body(file['body_text']),\n",
    "            format_bib(file['bib_entries']),\n",
    "            file['metadata']['authors'],\n",
    "            file['bib_entries']\n",
    "        ]\n",
    "\n",
    "        cleaned_files.append(features)\n",
    "\n",
    "    col_names = ['paper_id', 'title', 'authors',\n",
    "                 'affiliations', 'abstract', 'text', \n",
    "                 'bibliography','raw_authors','raw_bibliography']\n",
    "\n",
    "    clean_df = pd.DataFrame(cleaned_files, columns=col_names)\n",
    "    clean_df.head()\n",
    "    \n",
    "    return clean_df"
   ]
  },
  {
   "cell_type": "code",
   "execution_count": null,
   "metadata": {},
   "outputs": [],
   "source": [
    "biorxiv_dir = '/kaggle/input/CORD-19-research-challenge/biorxiv_medrxiv/biorxiv_medrxiv/pdf_json/'\n",
    "filenames = os.listdir(biorxiv_dir)\n",
    "print(\"Number of articles retrieved from biorxiv:\", len(filenames))"
   ]
  },
  {
   "cell_type": "code",
   "execution_count": null,
   "metadata": {},
   "outputs": [],
   "source": [
    "all_files = []\n",
    "\n",
    "for filename in filenames:\n",
    "    filename = biorxiv_dir + filename\n",
    "    file = json.load(open(filename, 'rb'))\n",
    "    all_files.append(file)\n",
    "file = all_files[0]\n",
    "print(\"Dictionary keys:\", file.keys())"
   ]
  },
  {
   "cell_type": "code",
   "execution_count": null,
   "metadata": {},
   "outputs": [],
   "source": [
    "cleaned_files = []\n",
    "\n",
    "for file in tqdm(all_files):\n",
    "    features = [\n",
    "        file['paper_id'],\n",
    "        file['metadata']['title'],\n",
    "        format_authors(file['metadata']['authors']),\n",
    "        format_authors(file['metadata']['authors'], \n",
    "                       with_affiliation=True),\n",
    "        format_body(file['abstract']),\n",
    "        format_body(file['body_text']),\n",
    "        format_bib(file['bib_entries']),\n",
    "        file['metadata']['authors'],\n",
    "        file['bib_entries']\n",
    "    ]\n",
    "    \n",
    "    cleaned_files.append(features)\n",
    "len(cleaned_files)"
   ]
  },
  {
   "cell_type": "code",
   "execution_count": null,
   "metadata": {},
   "outputs": [],
   "source": [
    "col_names = [\n",
    "    'paper_id', \n",
    "    'title', \n",
    "    'authors',\n",
    "    'affiliations', \n",
    "    'abstract', \n",
    "    'text', \n",
    "    'bibliography',\n",
    "    'raw_authors',\n",
    "    'raw_bibliography'\n",
    "]\n",
    "\n",
    "clean_df = pd.DataFrame(cleaned_files, columns=col_names)\n",
    "clean_df.head(5)"
   ]
  },
  {
   "cell_type": "code",
   "execution_count": null,
   "metadata": {},
   "outputs": [],
   "source": [
    "#clean_df.to_csv('biorxiv_clean.csv', index=False)\n",
    "pmc_dir = '/kaggle/input/CORD-19-research-challenge/custom_license/custom_license/pdf_json/'\n",
    "pmc_files = load_files(pmc_dir)\n",
    "pmc_df = generate_clean_df(pmc_files)\n",
    "#pmc_df.to_csv('clean_pmc.csv', index=False)\n",
    "#pmc_df.head()\n",
    "comm_dir = '/kaggle/input/CORD-19-research-challenge/comm_use_subset/comm_use_subset/pdf_json/'\n",
    "comm_files = load_files(comm_dir)\n",
    "comm_df = generate_clean_df(comm_files)\n",
    "#comm_df.to_csv('clean_comm_use.csv', index=False)\n",
    "#comm_df.head()\n",
    "noncomm_dir = '/kaggle/input/CORD-19-research-challenge/noncomm_use_subset/noncomm_use_subset/pdf_json/'\n",
    "noncomm_files = load_files(noncomm_dir)\n",
    "noncomm_df = generate_clean_df(noncomm_files)\n",
    "#noncomm_df.to_csv('clean_noncomm_use.csv', index=False)\n",
    "#noncomm_df.head()\n"
   ]
  },
  {
   "cell_type": "code",
   "execution_count": null,
   "metadata": {},
   "outputs": [],
   "source": [
    "#check the number of json files from each directory\n",
    "print(len(clean_df))\n",
    "print(len(pmc_df))\n",
    "print(len(comm_df))\n",
    "print(len(noncomm_df))"
   ]
  },
  {
   "cell_type": "code",
   "execution_count": null,
   "metadata": {},
   "outputs": [],
   "source": [
    "bigdata1 = pd.concat([clean_df, pmc_df], ignore_index=True, sort =False)\n",
    "bigdata2 = pd.concat([comm_df, noncomm_df], ignore_index=True, sort =False)\n",
    "final_df = pd.concat([bigdata1, bigdata2], ignore_index=True, sort =False)\n",
    "print(len(final_df))\n",
    "#final_df.to_csv('alljson.csv', index=False)\n",
    "del clean_df,pmc_df,comm_df,noncomm_df,bigdata1,bigdata2"
   ]
  },
  {
   "cell_type": "code",
   "execution_count": null,
   "metadata": {},
   "outputs": [],
   "source": [
    "#final_df.columns"
   ]
  },
  {
   "cell_type": "code",
   "execution_count": null,
   "metadata": {},
   "outputs": [],
   "source": [
    "#final_df['paper_id'][:5]"
   ]
  },
  {
   "cell_type": "markdown",
   "metadata": {},
   "source": [
    "### Part 2: **Loading the metadata**"
   ]
  },
  {
   "cell_type": "code",
   "execution_count": 4,
   "metadata": {},
   "outputs": [
    {
     "name": "stdout",
     "output_type": "stream",
     "text": [
      "There are 29500 rows and 14 columns\n"
     ]
    }
   ],
   "source": [
    "meta_df = pd.read_csv('/kaggle/input/CORD-19-research-challenge/metadata.csv') # \n",
    " \n",
    "nRow, nCol = meta_df.shape\n",
    "print(f'There are {nRow} rows and {nCol} columns')"
   ]
  },
  {
   "cell_type": "code",
   "execution_count": 5,
   "metadata": {},
   "outputs": [
    {
     "data": {
      "text/html": [
       "<div>\n",
       "<style scoped>\n",
       "    .dataframe tbody tr th:only-of-type {\n",
       "        vertical-align: middle;\n",
       "    }\n",
       "\n",
       "    .dataframe tbody tr th {\n",
       "        vertical-align: top;\n",
       "    }\n",
       "\n",
       "    .dataframe thead th {\n",
       "        text-align: right;\n",
       "    }\n",
       "</style>\n",
       "<table border=\"1\" class=\"dataframe\">\n",
       "  <thead>\n",
       "    <tr style=\"text-align: right;\">\n",
       "      <th></th>\n",
       "      <th>sha</th>\n",
       "      <th>source_x</th>\n",
       "      <th>title</th>\n",
       "      <th>doi</th>\n",
       "      <th>pmcid</th>\n",
       "      <th>pubmed_id</th>\n",
       "      <th>license</th>\n",
       "      <th>abstract</th>\n",
       "      <th>publish_time</th>\n",
       "      <th>authors</th>\n",
       "      <th>journal</th>\n",
       "      <th>Microsoft Academic Paper ID</th>\n",
       "      <th>WHO #Covidence</th>\n",
       "      <th>has_full_text</th>\n",
       "    </tr>\n",
       "  </thead>\n",
       "  <tbody>\n",
       "    <tr>\n",
       "      <th>0</th>\n",
       "      <td>c630ebcdf30652f0422c3ec12a00b50241dc9bd9</td>\n",
       "      <td>CZI</td>\n",
       "      <td>Angiotensin-converting enzyme 2 (ACE2) as a SA...</td>\n",
       "      <td>10.1007/s00134-020-05985-9</td>\n",
       "      <td>NaN</td>\n",
       "      <td>32125455.0</td>\n",
       "      <td>cc-by-nc</td>\n",
       "      <td>NaN</td>\n",
       "      <td>2020</td>\n",
       "      <td>Zhang, Haibo; Penninger, Josef M.; Li, Yimin; ...</td>\n",
       "      <td>Intensive Care Med</td>\n",
       "      <td>2.002765e+09</td>\n",
       "      <td>#3252</td>\n",
       "      <td>True</td>\n",
       "    </tr>\n",
       "    <tr>\n",
       "      <th>1</th>\n",
       "      <td>53eccda7977a31e3d0f565c884da036b1e85438e</td>\n",
       "      <td>CZI</td>\n",
       "      <td>Comparative genetic analysis of the novel coro...</td>\n",
       "      <td>10.1038/s41421-020-0147-1</td>\n",
       "      <td>NaN</td>\n",
       "      <td>NaN</td>\n",
       "      <td>cc-by</td>\n",
       "      <td>NaN</td>\n",
       "      <td>2020</td>\n",
       "      <td>Cao, Yanan; Li, Lin; Feng, Zhimin; Wan, Shengq...</td>\n",
       "      <td>Cell Discovery</td>\n",
       "      <td>3.003431e+09</td>\n",
       "      <td>#1861</td>\n",
       "      <td>True</td>\n",
       "    </tr>\n",
       "    <tr>\n",
       "      <th>2</th>\n",
       "      <td>210a892deb1c61577f6fba58505fd65356ce6636</td>\n",
       "      <td>CZI</td>\n",
       "      <td>Incubation Period and Other Epidemiological Ch...</td>\n",
       "      <td>10.3390/jcm9020538</td>\n",
       "      <td>NaN</td>\n",
       "      <td>NaN</td>\n",
       "      <td>cc-by</td>\n",
       "      <td>The geographic spread of 2019 novel coronaviru...</td>\n",
       "      <td>2020</td>\n",
       "      <td>Linton, M. Natalie; Kobayashi, Tetsuro; Yang, ...</td>\n",
       "      <td>Journal of Clinical Medicine</td>\n",
       "      <td>3.006065e+09</td>\n",
       "      <td>#1043</td>\n",
       "      <td>True</td>\n",
       "    </tr>\n",
       "    <tr>\n",
       "      <th>3</th>\n",
       "      <td>e3b40cc8e0e137c416b4a2273a4dca94ae8178cc</td>\n",
       "      <td>CZI</td>\n",
       "      <td>Characteristics of and Public Health Responses...</td>\n",
       "      <td>10.3390/jcm9020575</td>\n",
       "      <td>NaN</td>\n",
       "      <td>32093211.0</td>\n",
       "      <td>cc-by</td>\n",
       "      <td>In December 2019, cases of unidentified pneumo...</td>\n",
       "      <td>2020</td>\n",
       "      <td>Deng, Sheng-Qun; Peng, Hong-Juan</td>\n",
       "      <td>J Clin Med</td>\n",
       "      <td>1.776631e+08</td>\n",
       "      <td>#1999</td>\n",
       "      <td>True</td>\n",
       "    </tr>\n",
       "    <tr>\n",
       "      <th>4</th>\n",
       "      <td>92c2c9839304b4f2bc1276d41b1aa885d8b364fd</td>\n",
       "      <td>CZI</td>\n",
       "      <td>Imaging changes in severe COVID-19 pneumonia</td>\n",
       "      <td>10.1007/s00134-020-05976-w</td>\n",
       "      <td>NaN</td>\n",
       "      <td>32125453.0</td>\n",
       "      <td>cc-by-nc</td>\n",
       "      <td>NaN</td>\n",
       "      <td>2020</td>\n",
       "      <td>Zhang, Wei</td>\n",
       "      <td>Intensive Care Med</td>\n",
       "      <td>3.006643e+09</td>\n",
       "      <td>#3242</td>\n",
       "      <td>False</td>\n",
       "    </tr>\n",
       "  </tbody>\n",
       "</table>\n",
       "</div>"
      ],
      "text/plain": [
       "                                        sha source_x  \\\n",
       "0  c630ebcdf30652f0422c3ec12a00b50241dc9bd9      CZI   \n",
       "1  53eccda7977a31e3d0f565c884da036b1e85438e      CZI   \n",
       "2  210a892deb1c61577f6fba58505fd65356ce6636      CZI   \n",
       "3  e3b40cc8e0e137c416b4a2273a4dca94ae8178cc      CZI   \n",
       "4  92c2c9839304b4f2bc1276d41b1aa885d8b364fd      CZI   \n",
       "\n",
       "                                               title  \\\n",
       "0  Angiotensin-converting enzyme 2 (ACE2) as a SA...   \n",
       "1  Comparative genetic analysis of the novel coro...   \n",
       "2  Incubation Period and Other Epidemiological Ch...   \n",
       "3  Characteristics of and Public Health Responses...   \n",
       "4       Imaging changes in severe COVID-19 pneumonia   \n",
       "\n",
       "                          doi pmcid   pubmed_id   license  \\\n",
       "0  10.1007/s00134-020-05985-9   NaN  32125455.0  cc-by-nc   \n",
       "1   10.1038/s41421-020-0147-1   NaN         NaN     cc-by   \n",
       "2          10.3390/jcm9020538   NaN         NaN     cc-by   \n",
       "3          10.3390/jcm9020575   NaN  32093211.0     cc-by   \n",
       "4  10.1007/s00134-020-05976-w   NaN  32125453.0  cc-by-nc   \n",
       "\n",
       "                                            abstract publish_time  \\\n",
       "0                                                NaN         2020   \n",
       "1                                                NaN         2020   \n",
       "2  The geographic spread of 2019 novel coronaviru...         2020   \n",
       "3  In December 2019, cases of unidentified pneumo...         2020   \n",
       "4                                                NaN         2020   \n",
       "\n",
       "                                             authors  \\\n",
       "0  Zhang, Haibo; Penninger, Josef M.; Li, Yimin; ...   \n",
       "1  Cao, Yanan; Li, Lin; Feng, Zhimin; Wan, Shengq...   \n",
       "2  Linton, M. Natalie; Kobayashi, Tetsuro; Yang, ...   \n",
       "3                   Deng, Sheng-Qun; Peng, Hong-Juan   \n",
       "4                                         Zhang, Wei   \n",
       "\n",
       "                        journal  Microsoft Academic Paper ID WHO #Covidence  \\\n",
       "0            Intensive Care Med                 2.002765e+09          #3252   \n",
       "1                Cell Discovery                 3.003431e+09          #1861   \n",
       "2  Journal of Clinical Medicine                 3.006065e+09          #1043   \n",
       "3                    J Clin Med                 1.776631e+08          #1999   \n",
       "4            Intensive Care Med                 3.006643e+09          #3242   \n",
       "\n",
       "  has_full_text  \n",
       "0          True  \n",
       "1          True  \n",
       "2          True  \n",
       "3          True  \n",
       "4         False  "
      ]
     },
     "execution_count": 5,
     "metadata": {},
     "output_type": "execute_result"
    }
   ],
   "source": [
    "meta_df.head(5)"
   ]
  },
  {
   "cell_type": "code",
   "execution_count": 6,
   "metadata": {},
   "outputs": [
    {
     "data": {
      "text/plain": [
       "Index(['sha', 'source_x', 'title', 'doi', 'pmcid', 'pubmed_id', 'license',\n",
       "       'abstract', 'publish_time', 'authors', 'journal',\n",
       "       'Microsoft Academic Paper ID', 'WHO #Covidence', 'has_full_text'],\n",
       "      dtype='object')"
      ]
     },
     "execution_count": 6,
     "metadata": {},
     "output_type": "execute_result"
    }
   ],
   "source": [
    "meta_df.columns"
   ]
  },
  {
   "cell_type": "code",
   "execution_count": 7,
   "metadata": {},
   "outputs": [
    {
     "data": {
      "text/plain": [
       "12080"
      ]
     },
     "execution_count": 7,
     "metadata": {},
     "output_type": "execute_result"
    }
   ],
   "source": [
    "meta_df['sha'].isna().sum()  # null id number"
   ]
  },
  {
   "cell_type": "code",
   "execution_count": 64,
   "metadata": {},
   "outputs": [
    {
     "name": "stdout",
     "output_type": "stream",
     "text": [
      "17420\n"
     ]
    }
   ],
   "source": [
    "meta_df1=meta_df[meta_df['sha'].notnull()]\n",
    "print(len(meta_df1))"
   ]
  },
  {
   "cell_type": "markdown",
   "metadata": {},
   "source": [
    "### Part 3: Merge two dataframes, metadata and all json text"
   ]
  },
  {
   "cell_type": "code",
   "execution_count": null,
   "metadata": {},
   "outputs": [],
   "source": [
    "\"\"\"\n",
    "# If we want to merge the two data frames, meta_df1 is from meta data, and final_df is from json and has text info\n",
    "# but running on Kaggle encountered the memory issue, so this part is only if your machine has enough memory and \n",
    "# finding out how many paper id from json overlaps with metadata sha, so we can merge them together\n",
    "print(len(list(set(meta_df1['sha'])&set(final_df['paper_id']))))\n",
    "#merge two dataframes\n",
    "pd_merge_all= pd.merge(meta_df1, final_df, how='inner',left_on='sha', right_on='paper_id')\n",
    "print(len(pd_merge_all))\n",
    "# remove some duplicate columns\n",
    "pd_merge_all=pd_merge_all[['cord_uid', 'sha', 'source_x', 'title_x', 'doi', 'pmcid', 'pubmed_id',\n",
    "       'license', 'abstract_x', 'publish_time', 'authors_x', 'journal',\n",
    "       'Microsoft Academic Paper ID', 'WHO #Covidence', 'has_pdf_parse',\n",
    "       'has_pmc_xml_parse', 'full_text_file', 'url', 'affiliations', 'text', 'bibliography',\n",
    "       'raw_authors', 'raw_bibliography']]\n",
    "pd_merge_all=pd_merge_all.dropna(subset=['sha', 'text'])  # drop if any of these two columns have nan\n",
    "\n",
    "\"\"\""
   ]
  },
  {
   "cell_type": "code",
   "execution_count": 65,
   "metadata": {},
   "outputs": [],
   "source": [
    "# since we didn't use the above step, so use meta data only\n",
    "pd_merge_all=meta_df1"
   ]
  },
  {
   "cell_type": "code",
   "execution_count": 66,
   "metadata": {},
   "outputs": [
    {
     "data": {
      "text/html": [
       "<div>\n",
       "<style scoped>\n",
       "    .dataframe tbody tr th:only-of-type {\n",
       "        vertical-align: middle;\n",
       "    }\n",
       "\n",
       "    .dataframe tbody tr th {\n",
       "        vertical-align: top;\n",
       "    }\n",
       "\n",
       "    .dataframe thead th {\n",
       "        text-align: right;\n",
       "    }\n",
       "</style>\n",
       "<table border=\"1\" class=\"dataframe\">\n",
       "  <thead>\n",
       "    <tr style=\"text-align: right;\">\n",
       "      <th></th>\n",
       "      <th>sha</th>\n",
       "      <th>source_x</th>\n",
       "      <th>title</th>\n",
       "      <th>doi</th>\n",
       "      <th>pmcid</th>\n",
       "      <th>pubmed_id</th>\n",
       "      <th>license</th>\n",
       "      <th>abstract</th>\n",
       "      <th>publish_time</th>\n",
       "      <th>authors</th>\n",
       "      <th>journal</th>\n",
       "      <th>Microsoft Academic Paper ID</th>\n",
       "      <th>WHO #Covidence</th>\n",
       "      <th>has_full_text</th>\n",
       "    </tr>\n",
       "  </thead>\n",
       "  <tbody>\n",
       "    <tr>\n",
       "      <th>0</th>\n",
       "      <td>c630ebcdf30652f0422c3ec12a00b50241dc9bd9</td>\n",
       "      <td>CZI</td>\n",
       "      <td>Angiotensin-converting enzyme 2 (ACE2) as a SA...</td>\n",
       "      <td>10.1007/s00134-020-05985-9</td>\n",
       "      <td>NaN</td>\n",
       "      <td>32125455.0</td>\n",
       "      <td>cc-by-nc</td>\n",
       "      <td>NaN</td>\n",
       "      <td>2020</td>\n",
       "      <td>Zhang, Haibo; Penninger, Josef M.; Li, Yimin; ...</td>\n",
       "      <td>Intensive Care Med</td>\n",
       "      <td>2.002765e+09</td>\n",
       "      <td>#3252</td>\n",
       "      <td>True</td>\n",
       "    </tr>\n",
       "    <tr>\n",
       "      <th>1</th>\n",
       "      <td>53eccda7977a31e3d0f565c884da036b1e85438e</td>\n",
       "      <td>CZI</td>\n",
       "      <td>Comparative genetic analysis of the novel coro...</td>\n",
       "      <td>10.1038/s41421-020-0147-1</td>\n",
       "      <td>NaN</td>\n",
       "      <td>NaN</td>\n",
       "      <td>cc-by</td>\n",
       "      <td>NaN</td>\n",
       "      <td>2020</td>\n",
       "      <td>Cao, Yanan; Li, Lin; Feng, Zhimin; Wan, Shengq...</td>\n",
       "      <td>Cell Discovery</td>\n",
       "      <td>3.003431e+09</td>\n",
       "      <td>#1861</td>\n",
       "      <td>True</td>\n",
       "    </tr>\n",
       "    <tr>\n",
       "      <th>2</th>\n",
       "      <td>210a892deb1c61577f6fba58505fd65356ce6636</td>\n",
       "      <td>CZI</td>\n",
       "      <td>Incubation Period and Other Epidemiological Ch...</td>\n",
       "      <td>10.3390/jcm9020538</td>\n",
       "      <td>NaN</td>\n",
       "      <td>NaN</td>\n",
       "      <td>cc-by</td>\n",
       "      <td>The geographic spread of 2019 novel coronaviru...</td>\n",
       "      <td>2020</td>\n",
       "      <td>Linton, M. Natalie; Kobayashi, Tetsuro; Yang, ...</td>\n",
       "      <td>Journal of Clinical Medicine</td>\n",
       "      <td>3.006065e+09</td>\n",
       "      <td>#1043</td>\n",
       "      <td>True</td>\n",
       "    </tr>\n",
       "    <tr>\n",
       "      <th>3</th>\n",
       "      <td>e3b40cc8e0e137c416b4a2273a4dca94ae8178cc</td>\n",
       "      <td>CZI</td>\n",
       "      <td>Characteristics of and Public Health Responses...</td>\n",
       "      <td>10.3390/jcm9020575</td>\n",
       "      <td>NaN</td>\n",
       "      <td>32093211.0</td>\n",
       "      <td>cc-by</td>\n",
       "      <td>In December 2019, cases of unidentified pneumo...</td>\n",
       "      <td>2020</td>\n",
       "      <td>Deng, Sheng-Qun; Peng, Hong-Juan</td>\n",
       "      <td>J Clin Med</td>\n",
       "      <td>1.776631e+08</td>\n",
       "      <td>#1999</td>\n",
       "      <td>True</td>\n",
       "    </tr>\n",
       "    <tr>\n",
       "      <th>4</th>\n",
       "      <td>92c2c9839304b4f2bc1276d41b1aa885d8b364fd</td>\n",
       "      <td>CZI</td>\n",
       "      <td>Imaging changes in severe COVID-19 pneumonia</td>\n",
       "      <td>10.1007/s00134-020-05976-w</td>\n",
       "      <td>NaN</td>\n",
       "      <td>32125453.0</td>\n",
       "      <td>cc-by-nc</td>\n",
       "      <td>NaN</td>\n",
       "      <td>2020</td>\n",
       "      <td>Zhang, Wei</td>\n",
       "      <td>Intensive Care Med</td>\n",
       "      <td>3.006643e+09</td>\n",
       "      <td>#3242</td>\n",
       "      <td>False</td>\n",
       "    </tr>\n",
       "  </tbody>\n",
       "</table>\n",
       "</div>"
      ],
      "text/plain": [
       "                                        sha source_x  \\\n",
       "0  c630ebcdf30652f0422c3ec12a00b50241dc9bd9      CZI   \n",
       "1  53eccda7977a31e3d0f565c884da036b1e85438e      CZI   \n",
       "2  210a892deb1c61577f6fba58505fd65356ce6636      CZI   \n",
       "3  e3b40cc8e0e137c416b4a2273a4dca94ae8178cc      CZI   \n",
       "4  92c2c9839304b4f2bc1276d41b1aa885d8b364fd      CZI   \n",
       "\n",
       "                                               title  \\\n",
       "0  Angiotensin-converting enzyme 2 (ACE2) as a SA...   \n",
       "1  Comparative genetic analysis of the novel coro...   \n",
       "2  Incubation Period and Other Epidemiological Ch...   \n",
       "3  Characteristics of and Public Health Responses...   \n",
       "4       Imaging changes in severe COVID-19 pneumonia   \n",
       "\n",
       "                          doi pmcid   pubmed_id   license  \\\n",
       "0  10.1007/s00134-020-05985-9   NaN  32125455.0  cc-by-nc   \n",
       "1   10.1038/s41421-020-0147-1   NaN         NaN     cc-by   \n",
       "2          10.3390/jcm9020538   NaN         NaN     cc-by   \n",
       "3          10.3390/jcm9020575   NaN  32093211.0     cc-by   \n",
       "4  10.1007/s00134-020-05976-w   NaN  32125453.0  cc-by-nc   \n",
       "\n",
       "                                            abstract publish_time  \\\n",
       "0                                                NaN         2020   \n",
       "1                                                NaN         2020   \n",
       "2  The geographic spread of 2019 novel coronaviru...         2020   \n",
       "3  In December 2019, cases of unidentified pneumo...         2020   \n",
       "4                                                NaN         2020   \n",
       "\n",
       "                                             authors  \\\n",
       "0  Zhang, Haibo; Penninger, Josef M.; Li, Yimin; ...   \n",
       "1  Cao, Yanan; Li, Lin; Feng, Zhimin; Wan, Shengq...   \n",
       "2  Linton, M. Natalie; Kobayashi, Tetsuro; Yang, ...   \n",
       "3                   Deng, Sheng-Qun; Peng, Hong-Juan   \n",
       "4                                         Zhang, Wei   \n",
       "\n",
       "                        journal  Microsoft Academic Paper ID WHO #Covidence  \\\n",
       "0            Intensive Care Med                 2.002765e+09          #3252   \n",
       "1                Cell Discovery                 3.003431e+09          #1861   \n",
       "2  Journal of Clinical Medicine                 3.006065e+09          #1043   \n",
       "3                    J Clin Med                 1.776631e+08          #1999   \n",
       "4            Intensive Care Med                 3.006643e+09          #3242   \n",
       "\n",
       "  has_full_text  \n",
       "0          True  \n",
       "1          True  \n",
       "2          True  \n",
       "3          True  \n",
       "4         False  "
      ]
     },
     "execution_count": 66,
     "metadata": {},
     "output_type": "execute_result"
    }
   ],
   "source": [
    "pd_merge_all.head()"
   ]
  },
  {
   "cell_type": "markdown",
   "metadata": {},
   "source": [
    "###  Part 4   NLP processing "
   ]
  },
  {
   "cell_type": "code",
   "execution_count": 12,
   "metadata": {},
   "outputs": [],
   "source": [
    "import re\n",
    "import nltk\n",
    "import string"
   ]
  },
  {
   "cell_type": "code",
   "execution_count": 73,
   "metadata": {},
   "outputs": [
    {
     "name": "stdout",
     "output_type": "stream",
     "text": [
      "17420\n",
      "17420\n",
      "17420\n"
     ]
    }
   ],
   "source": [
    "# remove nan titles\n",
    "print(len(pd_merge_all))\n",
    "pd_merge_all=pd_merge_all[pd_merge_all['title']!='nan']\n",
    "# remove nan abstracts\n",
    "print(len(pd_merge_all))\n",
    "pd_merge_all=pd_merge_all[pd_merge_all['abstract']!='nan']\n",
    "print(len(pd_merge_all))"
   ]
  },
  {
   "cell_type": "markdown",
   "metadata": {},
   "source": [
    "  #### Normalization of text\n",
    "The following was only done to metadata abstract text, it can be easily done to alljson dataframe text column, but due to memory limit, only show the process to abstract "
   ]
  },
  {
   "cell_type": "code",
   "execution_count": 70,
   "metadata": {},
   "outputs": [],
   "source": [
    "# data cleaning\n",
    "def clean_dfonecol(new_df,col):\n",
    "    new_df=new_df.replace(np.nan,'',regex = True)\n",
    "    new_df = new_df[pd.notnull(new_df[col])] \n",
    "    #print(len(new_df))\n",
    "    # lower case\n",
    "    new_df[col] = new_df[col].apply(lambda x: x.lower()) \n",
    "    #punctuation\n",
    "    new_df[col] = new_df[col].apply(lambda x: x.translate(str.maketrans('','',string.punctuation)))\n",
    "    return new_df\n",
    "\n",
    "# below is the data with full text info, for now, dropped\n",
    "#pd_merge_all=clean_dfonecol(pd_merge_all,'title_x')\n",
    "#print(len(pd_merge_all))\n",
    "#pd_merge_all=clean_dfonecol(pd_merge_all,'abstract_x')\n",
    "#print(len(pd_merge_all))\n",
    "#pd_merge_all=clean_dfonecol(pd_merge_all,'text')    # too much text to process\n",
    "#print(len(pd_merge_all))"
   ]
  },
  {
   "cell_type": "code",
   "execution_count": 16,
   "metadata": {},
   "outputs": [
    {
     "name": "stderr",
     "output_type": "stream",
     "text": [
      "[nltk_data] Downloading package stopwords to\n",
      "[nltk_data]     C:\\Users\\Tina.T.Zhao\\AppData\\Roaming\\nltk_data...\n",
      "[nltk_data]   Unzipping corpora\\stopwords.zip.\n"
     ]
    }
   ],
   "source": [
    "from nltk.corpus import stopwords\n",
    "nltk.download('stopwords')\n",
    "stop = stopwords.words('english')\n",
    "    \n",
    "def remv_stopwords(new_df,col):\n",
    "# remove stopwords\n",
    "    \n",
    "    new_df[col]= new_df[col].apply(lambda x: ' '.join([word for word in x.split() if word not in (stop)]))\n",
    "    new_df[col]= new_df[col].str.findall('\\w{2,}').str.join(' ')\n",
    "    return new_df\n",
    "\n",
    "#pd_merge_all=remv_stopwords(pd_merge_all,'abstract_x')\n",
    "#pd_merge_all=remv_stopwords(pd_merge_all,'text') # takes too much memory, so not runnning it"
   ]
  },
  {
   "cell_type": "markdown",
   "metadata": {},
   "source": [
    "##### Since text column will take a lot of memory, will only perform on abstract for now"
   ]
  },
  {
   "cell_type": "code",
   "execution_count": 74,
   "metadata": {},
   "outputs": [
    {
     "name": "stdout",
     "output_type": "stream",
     "text": [
      "17420\n"
     ]
    }
   ],
   "source": [
    "# only process abstract from meta_df1\n",
    "#print(len(meta_df1))\n",
    "meta_df1=clean_dfonecol(pd_merge_all,'abstract')\n",
    "print(len(meta_df1))"
   ]
  },
  {
   "cell_type": "code",
   "execution_count": 75,
   "metadata": {},
   "outputs": [
    {
     "name": "stdout",
     "output_type": "stream",
     "text": [
      "17420\n"
     ]
    }
   ],
   "source": [
    "#print(len(meta_df1))\n",
    "meta_df1=remv_stopwords(meta_df1,'abstract')\n",
    "print(len(meta_df1))"
   ]
  },
  {
   "cell_type": "code",
   "execution_count": 76,
   "metadata": {},
   "outputs": [],
   "source": [
    "meta_df1.reset_index(inplace=True)"
   ]
  },
  {
   "cell_type": "markdown",
   "metadata": {},
   "source": [
    "### Text processing"
   ]
  },
  {
   "cell_type": "code",
   "execution_count": 77,
   "metadata": {},
   "outputs": [],
   "source": [
    "# put all abstract in one list, sentence by sentence\n",
    "text1=[]\n",
    "for i in range(len(meta_df1)):\n",
    "    text1.append(meta_df1['abstract'].loc[i])\n",
    "\n",
    "# put all, by words\n",
    "text2=[]  \n",
    "for i in range(len(meta_df1)):\n",
    "    text2.append(meta_df1['abstract'].loc[i].split())"
   ]
  },
  {
   "cell_type": "code",
   "execution_count": 78,
   "metadata": {},
   "outputs": [],
   "source": [
    "import gensim\n",
    "from gensim import corpora\n",
    "from pprint import pprint\n",
    "# Create dictionary by using all the words\n",
    "dictionary = corpora.Dictionary(text2)"
   ]
  },
  {
   "cell_type": "code",
   "execution_count": 79,
   "metadata": {},
   "outputs": [
    {
     "name": "stdout",
     "output_type": "stream",
     "text": [
      "Dictionary(80781 unique tokens: ['13', '14', '17', '2019', '2ndash14']...)\n"
     ]
    }
   ],
   "source": [
    "# Get information about the dictionary\n",
    "print(dictionary)"
   ]
  },
  {
   "cell_type": "code",
   "execution_count": 26,
   "metadata": {},
   "outputs": [],
   "source": [
    "#print(dictionary.token2id[) "
   ]
  },
  {
   "cell_type": "code",
   "execution_count": 80,
   "metadata": {},
   "outputs": [],
   "source": [
    "# Create the Corpus\n",
    "mydict = corpora.Dictionary()\n",
    "mycorpus = [mydict.doc2bow(doc, allow_update=True) for doc in text2]\n",
    "#pprint(mycorpus[:10])   # this will show the token and its frequency in the text "
   ]
  },
  {
   "cell_type": "code",
   "execution_count": 30,
   "metadata": {},
   "outputs": [],
   "source": [
    "# create word count\n",
    "word_counts = [[(mydict[id], count) for id, count in line] for line in mycorpus]\n",
    "#pprint(word_counts[:100]) "
   ]
  },
  {
   "cell_type": "code",
   "execution_count": 89,
   "metadata": {},
   "outputs": [],
   "source": [
    "#import gensim.downloader as api\n",
    "#dataset = api.load(\"text8\")"
   ]
  },
  {
   "cell_type": "code",
   "execution_count": 35,
   "metadata": {},
   "outputs": [],
   "source": [
    "from wordcloud import WordCloud, STOPWORDS\n",
    "import matplotlib.pyplot as plt\n",
    "stopwords = set(STOPWORDS)\n",
    "\n",
    "def show_wordcloud(data, title = None):\n",
    "    wordcloud = WordCloud(\n",
    "        background_color='white',\n",
    "        stopwords=stopwords,\n",
    "        max_words=200,\n",
    "        max_font_size=40, \n",
    "        scale=3,\n",
    "        random_state=1 # chosen at random by flipping a coin; it was heads\n",
    "    ).generate(str(data))\n",
    "\n",
    "    fig = plt.figure(1, figsize=(12, 12))\n",
    "    plt.axis('off')\n",
    "    if title: \n",
    "        fig.suptitle(title, fontsize=20)\n",
    "        fig.subplots_adjust(top=2.3)\n",
    "\n",
    "    plt.imshow(wordcloud)\n",
    "    plt.show()"
   ]
  },
  {
   "cell_type": "code",
   "execution_count": 36,
   "metadata": {},
   "outputs": [
    {
     "data": {
      "image/png": "[encoded data removed]",
      "text/plain": [
       "<Figure size 864x864 with 1 Axes>"
      ]
     },
     "metadata": {
      "needs_background": "light"
     },
     "output_type": "display_data"
    }
   ],
   "source": [
    "show_wordcloud(text2)"
   ]
  },
  {
   "cell_type": "code",
   "execution_count": 37,
   "metadata": {},
   "outputs": [],
   "source": [
    "# Use gensim summarization \n",
    "from gensim.summarization import summarize, keywords\n",
    "#from pprint import pprint"
   ]
  },
  {
   "cell_type": "code",
   "execution_count": 42,
   "metadata": {},
   "outputs": [
    {
     "name": "stdout",
     "output_type": "stream",
     "text": [
      "outbreak pneumonia originating wuhan china generated 24500 confirmed cases including 492 deaths february 2020 virus 2019ncov spread elsewhere china 24 countries including south korea thailand japan usa fortunately limited humantohuman transmission outside china assess risk sustained transmission whenever coronavirus arrives countries data describing times symptom onset hospitalisation 47 patients infected early current outbreak used generate estimate probability imported case followed sustained humantohuman transmission assumptions imported case representative patients china 2019ncov similarly transmissible sars coronavirus probability imported case followed sustained humantohuman transmission 041 credible interval 027 055 however mean time symptom onset hospitalisation halved intense surveillance probability imported case leads sustained transmission 0012 credible interval 0099 emphasises importance current surveillance efforts countries around world ensure ongoing outbreak become global pandemic\n",
      "china\n",
      "transmission\n",
      "transmissible\n",
      "imported case\n",
      "countries\n",
      "cases including\n",
      "sustained\n",
      "importance\n",
      "ncov\n",
      "patients\n",
      "current\n",
      "surveillance\n",
      "times\n",
      "time\n"
     ]
    }
   ],
   "source": [
    "# Important keywords from the paragraph\n",
    "print(text1[100])  # one abstract example\n",
    "# the keyword from this paragraph\n",
    "print(keywords(text1[100]))  "
   ]
  },
  {
   "cell_type": "code",
   "execution_count": 48,
   "metadata": {},
   "outputs": [
    {
     "name": "stdout",
     "output_type": "stream",
     "text": [
      "('imported case followed sustained humantohuman transmission assumptions.\\n'\n",
      " 'coronavirus probability imported case followed sustained  humantohuman '\n",
      " 'transmission.\\n'\n",
      " 'intense surveillance probability imported case leads sustained transmission.')\n"
     ]
    }
   ],
   "source": [
    "# Summarize the paragraph\n",
    "# need the comma to distinguish the sentences, just one example below\n",
    "text1examp=\"outbreak pneumonia originating wuhan china generated 24500 confirmed cases including 492 deaths. february \\\n",
    "2020 virus 2019ncov spread elsewhere china, 24 countries including south korea, thailand, japan, usa. fortunately limited \\\n",
    "humantohuman transmission outside china. assess risk sustained transmission whenever coronavirus arrives countries. data \\\n",
    "describing times symptom onset hospitalisation. 47 patients infected. early current outbreak used generate estimate \\\n",
    "probability. imported case followed sustained humantohuman transmission assumptions. imported case representative  \\\n",
    "patients china. 2019ncov similarly transmissible sars. coronavirus probability imported case followed sustained  \\\n",
    "humantohuman transmission. 041 credible interval. however mean time symptom onset hospitalisation halved.  \\\n",
    "intense surveillance probability imported case leads sustained transmission. 0012 credible interval. 0099 emphasises. \\\n",
    "importance current surveillance efforts. countries around world ensure ongoing outbreak become global pandemic.\"\n",
    "pprint(summarize(text1examp, word_count=20)) # this will be good for full text summarize"
   ]
  },
  {
   "cell_type": "markdown",
   "metadata": {},
   "source": [
    "#### It shows that abstracts  has 112323 unique tokens from 29500 papers, this number will change with added papers"
   ]
  },
  {
   "cell_type": "markdown",
   "metadata": {},
   "source": [
    "### Part 5:  **Search Use BM25**"
   ]
  },
  {
   "cell_type": "markdown",
   "metadata": {},
   "source": [
    "The bm25 rank feature implements the Okapi BM25 ranking function used to estimate the relevance of a text document given a search query. It is a pure text ranking feature which operates over an indexed string field. The feature is very cheap to compute, about 3-4 times faster than nativeRank, while still providing a good rank score quality wise. It is a good candidate to use in a first phase ranking function when ranking text documents."
   ]
  },
  {
   "attachments": {
    "image.png": {
     "image/png": "[encoded data removed]"
    }
   },
   "cell_type": "markdown",
   "metadata": {},
   "source": [
    "The bm25 feature calculates a score for how good a query with terms q1,...,qn\n",
    " matches an indexed string field t in a document D. The score is calculated as follows:\n",
    "![image.png](attachment:image.png)\n",
    "where f(qi,D) is qi's term frequency in the document D, |D| is the length of the document D in words, and avgdl is the average document length in the text collection from which documents are drawn. k1 and b are free parameters, usually chosen, in absence of an advanced optimization. IDF(qi) is the IDF (inverse document frequency) weight of the query term qi. It is usually computed as:"
   ]
  },
  {
   "attachments": {
    "image.png": {
     "image/png": "[encoded data removed]"
    }
   },
   "cell_type": "markdown",
   "metadata": {},
   "source": [
    "![image.png](attachment:image.png)\n",
    "where N is the total number of documents in the collection, and n(qi) is the number of documents containing qi."
   ]
  },
  {
   "cell_type": "code",
   "execution_count": 81,
   "metadata": {},
   "outputs": [],
   "source": [
    "from gensim.utils import simple_preprocess\n",
    "from gensim.parsing.preprocessing import preprocess_documents, preprocess_string\n",
    "# tockenize abstract\n",
    "meta_df_tokens = meta_df1.abstract.fillna('').apply(preprocess_string) "
   ]
  },
  {
   "cell_type": "code",
   "execution_count": 54,
   "metadata": {},
   "outputs": [
    {
     "name": "stdout",
     "output_type": "stream",
     "text": [
      "Collecting rank_bm25\n",
      "  Downloading rank_bm25-0.2.tar.gz (4.2 kB)\n",
      "Requirement already satisfied: numpy in c:\\users\\tina.t.zhao\\appdata\\local\\continuum\\anaconda3\\envs\\gmap\\lib\\site-packages (from rank_bm25) (1.18.2)\n",
      "Building wheels for collected packages: rank-bm25\n",
      "  Building wheel for rank-bm25 (setup.py): started\n",
      "  Building wheel for rank-bm25 (setup.py): finished with status 'done'\n",
      "  Created wheel for rank-bm25: filename=rank_bm25-0.2-py3-none-any.whl size=4167 sha256=14d2e093d26cc71e4aece02dc7511fa122e78a18157578c08b2b286379df8459\n",
      "  Stored in directory: c:\\users\\tina.t.zhao\\appdata\\local\\pip\\cache\\wheels\\a7\\ae\\a2\\bc836dd67721b123fe31c3d4dce111ff782f898e7c7fdabc7f\n",
      "Successfully built rank-bm25\n",
      "Installing collected packages: rank-bm25\n",
      "Successfully installed rank-bm25-0.2\n"
     ]
    }
   ],
   "source": [
    "!pip install rank_bm25"
   ]
  },
  {
   "cell_type": "code",
   "execution_count": 55,
   "metadata": {},
   "outputs": [],
   "source": [
    "from rank_bm25 import BM25Okapi\n",
    "\n",
    "# tockenize abstract\n",
    "#pd_merge_abstract_tokens = pd_merge_all.abstract_x.fillna('').apply(preprocess_string)  # tokenize each abstract to word\n",
    "# tockenize the text, this is too memory consuming to be run on kaggle machine\n",
    "#pd_merge_text_tokens = pd_merge_all.text.fillna('').apply(preprocess_string)  # tokenize each textto word"
   ]
  },
  {
   "cell_type": "code",
   "execution_count": 82,
   "metadata": {},
   "outputs": [
    {
     "data": {
      "text/plain": [
       "0                                                    []\n",
       "1                                                    []\n",
       "2     [geograph, spread, novel, coronaviru, covid, i...\n",
       "3     [decemb, case, unidentifi, pneumonia, histori,...\n",
       "4                                                    []\n",
       "                            ...                        \n",
       "95    [export, case, novel, coronaviru, covid, infec...\n",
       "96    [rapid, diagnost, vaccin, therapeut, import, i...\n",
       "97    [sever, respiratori, ongo, outbreak, pneumonia...\n",
       "98                                                   []\n",
       "99                                                   []\n",
       "Name: abstract, Length: 100, dtype: object"
      ]
     },
     "execution_count": 82,
     "metadata": {},
     "output_type": "execute_result"
    }
   ],
   "source": [
    "meta_df_tokens[:100]"
   ]
  },
  {
   "cell_type": "code",
   "execution_count": 84,
   "metadata": {},
   "outputs": [
    {
     "name": "stderr",
     "output_type": "stream",
     "text": [
      "[nltk_data] Downloading package wordnet to\n",
      "[nltk_data]     C:\\Users\\Tina.T.Zhao\\AppData\\Roaming\\nltk_data...\n",
      "[nltk_data]   Unzipping corpora\\wordnet.zip.\n"
     ]
    },
    {
     "name": "stdout",
     "output_type": "stream",
     "text": [
      "{'smoking', 'smoke', 'fume'}\n"
     ]
    }
   ],
   "source": [
    "from nltk.corpus import wordnet\n",
    "nltk.download('wordnet')\n",
    "def find_syn_ant(word):\n",
    "    synonyms = []\n",
    "    antonyms = []\n",
    "\n",
    "    for syn in wordnet.synsets(word):\n",
    "        for l in syn.lemmas():\n",
    "            synonyms.append(l.name())\n",
    "            if l.antonyms():\n",
    "                antonyms.append(l.antonyms()[0].name())\n",
    "\n",
    "    #print(set(synonyms))\n",
    "    #print(set(antonyms))\n",
    "    return set(synonyms)\n",
    "\n",
    "print(find_syn_ant(\"smoking\"))"
   ]
  },
  {
   "cell_type": "markdown",
   "metadata": {},
   "source": [
    "Create a BM25Okapi index from the tokens. Implement a search function that returns the top 10 results from the search. Note that in search wer are asking the index to return the dataframe indexes of the tokens most similar to the search string."
   ]
  },
  {
   "cell_type": "code",
   "execution_count": 85,
   "metadata": {},
   "outputs": [],
   "source": [
    "bm25_index = BM25Okapi(meta_df_tokens.tolist())\n",
    "\n",
    "def search(search_string, num_results=10):  # can change the num_results to top 50 or more\n",
    "    search_tokens = preprocess_string(search_string)\n",
    "    scores = bm25_index.get_scores(search_tokens)\n",
    "    top_indexes = np.argsort(scores)[::-1][:num_results]\n",
    "    return top_indexes"
   ]
  },
  {
   "cell_type": "code",
   "execution_count": 89,
   "metadata": {},
   "outputs": [
    {
     "data": {
      "text/html": [
       "<div>\n",
       "<style scoped>\n",
       "    .dataframe tbody tr th:only-of-type {\n",
       "        vertical-align: middle;\n",
       "    }\n",
       "\n",
       "    .dataframe tbody tr th {\n",
       "        vertical-align: top;\n",
       "    }\n",
       "\n",
       "    .dataframe thead th {\n",
       "        text-align: right;\n",
       "    }\n",
       "</style>\n",
       "<table border=\"1\" class=\"dataframe\">\n",
       "  <thead>\n",
       "    <tr style=\"text-align: right;\">\n",
       "      <th></th>\n",
       "      <th>abstract</th>\n",
       "      <th>publish_time</th>\n",
       "    </tr>\n",
       "  </thead>\n",
       "  <tbody>\n",
       "    <tr>\n",
       "      <th>93</th>\n",
       "      <td>outbreak respiratory illness proved infected 2...</td>\n",
       "      <td>2020</td>\n",
       "    </tr>\n",
       "    <tr>\n",
       "      <th>15391</th>\n",
       "      <td>global outbreak severe acute respiratory syndr...</td>\n",
       "      <td>2004 Feb</td>\n",
       "    </tr>\n",
       "    <tr>\n",
       "      <th>16934</th>\n",
       "      <td>2019ncov novel coronavirus emerged wuhan china...</td>\n",
       "      <td>2020-02-03</td>\n",
       "    </tr>\n",
       "    <tr>\n",
       "      <th>144</th>\n",
       "      <td>objective study execute rational screen identi...</td>\n",
       "      <td>2020</td>\n",
       "    </tr>\n",
       "    <tr>\n",
       "      <th>106</th>\n",
       "      <td>december 2019 coronavirus disease 2019 covid19...</td>\n",
       "      <td>2020</td>\n",
       "    </tr>\n",
       "    <tr>\n",
       "      <th>17046</th>\n",
       "      <td>sarscov2 novel coronavirus cov recently emerge...</td>\n",
       "      <td>2020-03-09</td>\n",
       "    </tr>\n",
       "    <tr>\n",
       "      <th>61</th>\n",
       "      <td>late december 2019 previous unidentified coron...</td>\n",
       "      <td>2020</td>\n",
       "    </tr>\n",
       "    <tr>\n",
       "      <th>16923</th>\n",
       "      <td>emergence novel highly pathogenic coronavirus ...</td>\n",
       "      <td>2020-01-31</td>\n",
       "    </tr>\n",
       "    <tr>\n",
       "      <th>165</th>\n",
       "      <td>novel coronavirus 2019ncov outbreak initially ...</td>\n",
       "      <td>2020</td>\n",
       "    </tr>\n",
       "    <tr>\n",
       "      <th>12579</th>\n",
       "      <td>identification novel coronavirus ncov causativ...</td>\n",
       "      <td>2013 Apr 18</td>\n",
       "    </tr>\n",
       "  </tbody>\n",
       "</table>\n",
       "</div>"
      ],
      "text/plain": [
       "                                                abstract publish_time\n",
       "93     outbreak respiratory illness proved infected 2...         2020\n",
       "15391  global outbreak severe acute respiratory syndr...     2004 Feb\n",
       "16934  2019ncov novel coronavirus emerged wuhan china...   2020-02-03\n",
       "144    objective study execute rational screen identi...         2020\n",
       "106    december 2019 coronavirus disease 2019 covid19...         2020\n",
       "17046  sarscov2 novel coronavirus cov recently emerge...   2020-03-09\n",
       "61     late december 2019 previous unidentified coron...         2020\n",
       "16923  emergence novel highly pathogenic coronavirus ...   2020-01-31\n",
       "165    novel coronavirus 2019ncov outbreak initially ...         2020\n",
       "12579  identification novel coronavirus ncov causativ...  2013 Apr 18"
      ]
     },
     "execution_count": 89,
     "metadata": {},
     "output_type": "execute_result"
    }
   ],
   "source": [
    "# example: now show the abstract of the top index\n",
    "meta_df1.loc[search('novel coronavirus treatment')][['abstract', 'publish_time']]"
   ]
  },
  {
   "cell_type": "markdown",
   "metadata": {},
   "source": [
    "### Below are the ones we need to check related to different risk factors:\n",
    "\n",
    "- Data on potential risks factors\n",
    "        - Smoking, pre-existing pulmonary disease\n",
    "        - Co-infections (determine whether co-existing respiratory/viral infections make the virus more transmissible or virulent) and other co-morbidities\n",
    "        - Neonates and pregnant women\n",
    "        - Socio-economic and behavioral factors to understand the economic impact of the virus and whether there were differences.\n",
    "- Transmission dynamics of the virus, including the basic reproductive number, incubation period, serial interval, modes of transmission and environmental factors\n",
    "- Severity of disease, including risk of fatality among symptomatic hospitalized patients, and high-risk patient groups\n",
    "- Susceptibility of populations\n",
    "- Public health mitigation measures that could be effective for control"
   ]
  },
  {
   "cell_type": "code",
   "execution_count": 96,
   "metadata": {},
   "outputs": [],
   "source": [
    "# Now break the above questions to the following search strings\n",
    "string1='smoking, pre-existing pulmonary disease'\n",
    "string2= 'Co-infections (determine whether co-existing respiratory/viral infections make the virus more transmissible or virulent) and other co-morbidities'\n",
    "string3= 'Neonates and pregnant women'\n",
    "string4=  'Socio-economic and behavioral factors to understand the economic impact of the virus and whether there were differences'\n",
    "string5= 'Transmission dynamics of the virus, including the basic reproductive number, incubation period, serial interval, modes of transmission and environmental factors'\n",
    "string6=  'Severity of disease, including risk of fatality among symptomatic hospitalized patients, and high-risk patient groups'\n",
    "string7=  'Susceptibility of populations'\n",
    "string8= 'Public health mitigation measures that could be effective for control'"
   ]
  },
  {
   "cell_type": "code",
   "execution_count": 98,
   "metadata": {},
   "outputs": [
    {
     "data": {
      "text/html": [
       "<div>\n",
       "<style scoped>\n",
       "    .dataframe tbody tr th:only-of-type {\n",
       "        vertical-align: middle;\n",
       "    }\n",
       "\n",
       "    .dataframe tbody tr th {\n",
       "        vertical-align: top;\n",
       "    }\n",
       "\n",
       "    .dataframe thead th {\n",
       "        text-align: right;\n",
       "    }\n",
       "</style>\n",
       "<table border=\"1\" class=\"dataframe\">\n",
       "  <thead>\n",
       "    <tr style=\"text-align: right;\">\n",
       "      <th></th>\n",
       "      <th>abstract</th>\n",
       "      <th>publish_time</th>\n",
       "    </tr>\n",
       "  </thead>\n",
       "  <tbody>\n",
       "    <tr>\n",
       "      <th>9182</th>\n",
       "      <td>data exist usefulness delta neutrophil index d...</td>\n",
       "      <td>2018 Aug 17</td>\n",
       "    </tr>\n",
       "    <tr>\n",
       "      <th>4585</th>\n",
       "      <td>daily oscillations pulmonary function depend r...</td>\n",
       "      <td>2015 Apr 29</td>\n",
       "    </tr>\n",
       "    <tr>\n",
       "      <th>4584</th>\n",
       "      <td>daily oscillations pulmonary function depend r...</td>\n",
       "      <td>2015 Apr 29</td>\n",
       "    </tr>\n",
       "    <tr>\n",
       "      <th>10341</th>\n",
       "      <td>case presentation clinical case presents histo...</td>\n",
       "      <td>2019 Mar 6</td>\n",
       "    </tr>\n",
       "    <tr>\n",
       "      <th>12470</th>\n",
       "      <td>introduction chronic obstructive pulmonary dis...</td>\n",
       "      <td>2012 May 9</td>\n",
       "    </tr>\n",
       "    <tr>\n",
       "      <th>4201</th>\n",
       "      <td>acute respiratory distress syndrome ards chara...</td>\n",
       "      <td>2014 Aug 22</td>\n",
       "    </tr>\n",
       "    <tr>\n",
       "      <th>3044</th>\n",
       "      <td>background carcinoembryonic antigen cearelated...</td>\n",
       "      <td>2013 Aug 14</td>\n",
       "    </tr>\n",
       "    <tr>\n",
       "      <th>13720</th>\n",
       "      <td>background human coronaviruses cov long recogn...</td>\n",
       "      <td>2017 Oct 4</td>\n",
       "    </tr>\n",
       "    <tr>\n",
       "      <th>13530</th>\n",
       "      <td>identifying asthma triggers forms basis enviro...</td>\n",
       "      <td>2017 Mar 7</td>\n",
       "    </tr>\n",
       "    <tr>\n",
       "      <th>11361</th>\n",
       "      <td>among chief limitations achieving early detect...</td>\n",
       "      <td>2019 Nov 23</td>\n",
       "    </tr>\n",
       "  </tbody>\n",
       "</table>\n",
       "</div>"
      ],
      "text/plain": [
       "                                                abstract publish_time\n",
       "9182   data exist usefulness delta neutrophil index d...  2018 Aug 17\n",
       "4585   daily oscillations pulmonary function depend r...  2015 Apr 29\n",
       "4584   daily oscillations pulmonary function depend r...  2015 Apr 29\n",
       "10341  case presentation clinical case presents histo...   2019 Mar 6\n",
       "12470  introduction chronic obstructive pulmonary dis...   2012 May 9\n",
       "4201   acute respiratory distress syndrome ards chara...  2014 Aug 22\n",
       "3044   background carcinoembryonic antigen cearelated...  2013 Aug 14\n",
       "13720  background human coronaviruses cov long recogn...   2017 Oct 4\n",
       "13530  identifying asthma triggers forms basis enviro...   2017 Mar 7\n",
       "11361  among chief limitations achieving early detect...  2019 Nov 23"
      ]
     },
     "execution_count": 98,
     "metadata": {},
     "output_type": "execute_result"
    }
   ],
   "source": [
    "meta_df1.loc[search(string1)][['abstract', 'publish_time']]"
   ]
  },
  {
   "cell_type": "code",
   "execution_count": 100,
   "metadata": {},
   "outputs": [
    {
     "data": {
      "text/html": [
       "<div>\n",
       "<style scoped>\n",
       "    .dataframe tbody tr th:only-of-type {\n",
       "        vertical-align: middle;\n",
       "    }\n",
       "\n",
       "    .dataframe tbody tr th {\n",
       "        vertical-align: top;\n",
       "    }\n",
       "\n",
       "    .dataframe thead th {\n",
       "        text-align: right;\n",
       "    }\n",
       "</style>\n",
       "<table border=\"1\" class=\"dataframe\">\n",
       "  <thead>\n",
       "    <tr style=\"text-align: right;\">\n",
       "      <th></th>\n",
       "      <th>abstract</th>\n",
       "      <th>publish_time</th>\n",
       "    </tr>\n",
       "  </thead>\n",
       "  <tbody>\n",
       "    <tr>\n",
       "      <th>14526</th>\n",
       "      <td>combination high rates mutation replication co...</td>\n",
       "      <td>2019 Aug 22</td>\n",
       "    </tr>\n",
       "    <tr>\n",
       "      <th>11535</th>\n",
       "      <td>novel infectious diseases continue emerge with...</td>\n",
       "      <td>2019 Nov 26</td>\n",
       "    </tr>\n",
       "    <tr>\n",
       "      <th>11534</th>\n",
       "      <td>novel infectious diseases continue emerge with...</td>\n",
       "      <td>2019 Nov 26</td>\n",
       "    </tr>\n",
       "    <tr>\n",
       "      <th>11533</th>\n",
       "      <td>novel infectious diseases continue emerge with...</td>\n",
       "      <td>2019 Nov 26</td>\n",
       "    </tr>\n",
       "    <tr>\n",
       "      <th>11532</th>\n",
       "      <td>novel infectious diseases continue emerge with...</td>\n",
       "      <td>2019 Nov 26</td>\n",
       "    </tr>\n",
       "    <tr>\n",
       "      <th>16744</th>\n",
       "      <td>novel infectious diseases continue emerge with...</td>\n",
       "      <td>2019-03-19</td>\n",
       "    </tr>\n",
       "    <tr>\n",
       "      <th>7395</th>\n",
       "      <td>severe acute respiratory syndrome sars new inf...</td>\n",
       "      <td>2005 Jan 20</td>\n",
       "    </tr>\n",
       "    <tr>\n",
       "      <th>11310</th>\n",
       "      <td>although concept highlevel containment care hl...</td>\n",
       "      <td>2019 Aug 22</td>\n",
       "    </tr>\n",
       "    <tr>\n",
       "      <th>13343</th>\n",
       "      <td>vivo serial passage nonpathogenic viruses show...</td>\n",
       "      <td>2016 Apr 9</td>\n",
       "    </tr>\n",
       "    <tr>\n",
       "      <th>11163</th>\n",
       "      <td>porcine epidemic diarrhea virus pedv enteric c...</td>\n",
       "      <td>2019 Jul 25</td>\n",
       "    </tr>\n",
       "  </tbody>\n",
       "</table>\n",
       "</div>"
      ],
      "text/plain": [
       "                                                abstract publish_time\n",
       "14526  combination high rates mutation replication co...  2019 Aug 22\n",
       "11535  novel infectious diseases continue emerge with...  2019 Nov 26\n",
       "11534  novel infectious diseases continue emerge with...  2019 Nov 26\n",
       "11533  novel infectious diseases continue emerge with...  2019 Nov 26\n",
       "11532  novel infectious diseases continue emerge with...  2019 Nov 26\n",
       "16744  novel infectious diseases continue emerge with...   2019-03-19\n",
       "7395   severe acute respiratory syndrome sars new inf...  2005 Jan 20\n",
       "11310  although concept highlevel containment care hl...  2019 Aug 22\n",
       "13343  vivo serial passage nonpathogenic viruses show...   2016 Apr 9\n",
       "11163  porcine epidemic diarrhea virus pedv enteric c...  2019 Jul 25"
      ]
     },
     "execution_count": 100,
     "metadata": {},
     "output_type": "execute_result"
    }
   ],
   "source": [
    "meta_df1.loc[search(string2)][['abstract', 'publish_time']]"
   ]
  },
  {
   "cell_type": "code",
   "execution_count": 101,
   "metadata": {},
   "outputs": [
    {
     "data": {
      "text/html": [
       "<div>\n",
       "<style scoped>\n",
       "    .dataframe tbody tr th:only-of-type {\n",
       "        vertical-align: middle;\n",
       "    }\n",
       "\n",
       "    .dataframe tbody tr th {\n",
       "        vertical-align: top;\n",
       "    }\n",
       "\n",
       "    .dataframe thead th {\n",
       "        text-align: right;\n",
       "    }\n",
       "</style>\n",
       "<table border=\"1\" class=\"dataframe\">\n",
       "  <thead>\n",
       "    <tr style=\"text-align: right;\">\n",
       "      <th></th>\n",
       "      <th>abstract</th>\n",
       "      <th>publish_time</th>\n",
       "    </tr>\n",
       "  </thead>\n",
       "  <tbody>\n",
       "    <tr>\n",
       "      <th>8333</th>\n",
       "      <td>vaccination mainstay preventative medicine man...</td>\n",
       "      <td>2018 Feb 1</td>\n",
       "    </tr>\n",
       "    <tr>\n",
       "      <th>8543</th>\n",
       "      <td>investigate factors associated death describe ...</td>\n",
       "      <td>2018 Mar 26</td>\n",
       "    </tr>\n",
       "    <tr>\n",
       "      <th>44</th>\n",
       "      <td>early december 2019 cluster cases pneumonia un...</td>\n",
       "      <td>2020</td>\n",
       "    </tr>\n",
       "    <tr>\n",
       "      <th>14891</th>\n",
       "      <td>planning future influenza pandemic include con...</td>\n",
       "      <td>2008 Jan</td>\n",
       "    </tr>\n",
       "    <tr>\n",
       "      <th>941</th>\n",
       "      <td>background little known optimismpessimism heal...</td>\n",
       "      <td>2009 Sep 1</td>\n",
       "    </tr>\n",
       "    <tr>\n",
       "      <th>16225</th>\n",
       "      <td>human metapneumovirus hmpv respiratory virus c...</td>\n",
       "      <td>2017 Aug</td>\n",
       "    </tr>\n",
       "    <tr>\n",
       "      <th>13315</th>\n",
       "      <td>objective describe clinical aspects cases infl...</td>\n",
       "      <td>2015 Apr-Jun</td>\n",
       "    </tr>\n",
       "    <tr>\n",
       "      <th>15513</th>\n",
       "      <td>emerging infectious disease outbreaks bioterro...</td>\n",
       "      <td>2006 Nov</td>\n",
       "    </tr>\n",
       "    <tr>\n",
       "      <th>15511</th>\n",
       "      <td>key component response emerging infections con...</td>\n",
       "      <td>2006 Nov</td>\n",
       "    </tr>\n",
       "    <tr>\n",
       "      <th>11856</th>\n",
       "      <td>association zika virus zikv infection severe c...</td>\n",
       "      <td>2020 Jan 30</td>\n",
       "    </tr>\n",
       "  </tbody>\n",
       "</table>\n",
       "</div>"
      ],
      "text/plain": [
       "                                                abstract  publish_time\n",
       "8333   vaccination mainstay preventative medicine man...    2018 Feb 1\n",
       "8543   investigate factors associated death describe ...   2018 Mar 26\n",
       "44     early december 2019 cluster cases pneumonia un...          2020\n",
       "14891  planning future influenza pandemic include con...      2008 Jan\n",
       "941    background little known optimismpessimism heal...    2009 Sep 1\n",
       "16225  human metapneumovirus hmpv respiratory virus c...      2017 Aug\n",
       "13315  objective describe clinical aspects cases infl...  2015 Apr-Jun\n",
       "15513  emerging infectious disease outbreaks bioterro...      2006 Nov\n",
       "15511  key component response emerging infections con...      2006 Nov\n",
       "11856  association zika virus zikv infection severe c...   2020 Jan 30"
      ]
     },
     "execution_count": 101,
     "metadata": {},
     "output_type": "execute_result"
    }
   ],
   "source": [
    "meta_df1.loc[search(string3)][['abstract', 'publish_time']]"
   ]
  },
  {
   "cell_type": "code",
   "execution_count": 102,
   "metadata": {},
   "outputs": [
    {
     "data": {
      "text/html": [
       "<div>\n",
       "<style scoped>\n",
       "    .dataframe tbody tr th:only-of-type {\n",
       "        vertical-align: middle;\n",
       "    }\n",
       "\n",
       "    .dataframe tbody tr th {\n",
       "        vertical-align: top;\n",
       "    }\n",
       "\n",
       "    .dataframe thead th {\n",
       "        text-align: right;\n",
       "    }\n",
       "</style>\n",
       "<table border=\"1\" class=\"dataframe\">\n",
       "  <thead>\n",
       "    <tr style=\"text-align: right;\">\n",
       "      <th></th>\n",
       "      <th>abstract</th>\n",
       "      <th>publish_time</th>\n",
       "    </tr>\n",
       "  </thead>\n",
       "  <tbody>\n",
       "    <tr>\n",
       "      <th>15864</th>\n",
       "      <td>mathematical epidemiology one oldest richest a...</td>\n",
       "      <td>2014 Sep 19</td>\n",
       "    </tr>\n",
       "    <tr>\n",
       "      <th>4797</th>\n",
       "      <td>study evaluates economic consequences hypothet...</td>\n",
       "      <td>2015 Jun 26</td>\n",
       "    </tr>\n",
       "    <tr>\n",
       "      <th>12343</th>\n",
       "      <td>purpose new strain h1n1 subtype influenza viru...</td>\n",
       "      <td>2011 Jan 1</td>\n",
       "    </tr>\n",
       "    <tr>\n",
       "      <th>2964</th>\n",
       "      <td>harmful nonindigenous species nis impose great...</td>\n",
       "      <td>2013 Aug 9</td>\n",
       "    </tr>\n",
       "    <tr>\n",
       "      <th>5746</th>\n",
       "      <td>recent research suggested significant negative...</td>\n",
       "      <td>2016 Apr 8</td>\n",
       "    </tr>\n",
       "    <tr>\n",
       "      <th>14302</th>\n",
       "      <td>background burden disease used prioritize heal...</td>\n",
       "      <td>2019 Mar 7</td>\n",
       "    </tr>\n",
       "    <tr>\n",
       "      <th>15962</th>\n",
       "      <td>background influenza respiratory infections ca...</td>\n",
       "      <td>2013 Nov 6</td>\n",
       "    </tr>\n",
       "    <tr>\n",
       "      <th>13440</th>\n",
       "      <td>result rapid economic growth previous three de...</td>\n",
       "      <td>2016 Nov 29</td>\n",
       "    </tr>\n",
       "    <tr>\n",
       "      <th>12618</th>\n",
       "      <td>last years intensive worldwide effort speeding...</td>\n",
       "      <td>2013 May 15</td>\n",
       "    </tr>\n",
       "    <tr>\n",
       "      <th>9032</th>\n",
       "      <td>background epidemics sars h7n9 caused huge neg...</td>\n",
       "      <td>2018 Jun 28</td>\n",
       "    </tr>\n",
       "  </tbody>\n",
       "</table>\n",
       "</div>"
      ],
      "text/plain": [
       "                                                abstract publish_time\n",
       "15864  mathematical epidemiology one oldest richest a...  2014 Sep 19\n",
       "4797   study evaluates economic consequences hypothet...  2015 Jun 26\n",
       "12343  purpose new strain h1n1 subtype influenza viru...   2011 Jan 1\n",
       "2964   harmful nonindigenous species nis impose great...   2013 Aug 9\n",
       "5746   recent research suggested significant negative...   2016 Apr 8\n",
       "14302  background burden disease used prioritize heal...   2019 Mar 7\n",
       "15962  background influenza respiratory infections ca...   2013 Nov 6\n",
       "13440  result rapid economic growth previous three de...  2016 Nov 29\n",
       "12618  last years intensive worldwide effort speeding...  2013 May 15\n",
       "9032   background epidemics sars h7n9 caused huge neg...  2018 Jun 28"
      ]
     },
     "execution_count": 102,
     "metadata": {},
     "output_type": "execute_result"
    }
   ],
   "source": [
    "meta_df1.loc[search(string4)][['abstract', 'publish_time']]"
   ]
  },
  {
   "cell_type": "code",
   "execution_count": 103,
   "metadata": {},
   "outputs": [
    {
     "data": {
      "text/html": [
       "<div>\n",
       "<style scoped>\n",
       "    .dataframe tbody tr th:only-of-type {\n",
       "        vertical-align: middle;\n",
       "    }\n",
       "\n",
       "    .dataframe tbody tr th {\n",
       "        vertical-align: top;\n",
       "    }\n",
       "\n",
       "    .dataframe thead th {\n",
       "        text-align: right;\n",
       "    }\n",
       "</style>\n",
       "<table border=\"1\" class=\"dataframe\">\n",
       "  <thead>\n",
       "    <tr style=\"text-align: right;\">\n",
       "      <th></th>\n",
       "      <th>abstract</th>\n",
       "      <th>publish_time</th>\n",
       "    </tr>\n",
       "  </thead>\n",
       "  <tbody>\n",
       "    <tr>\n",
       "      <th>13227</th>\n",
       "      <td>objectives outbreak middle eastern respiratory...</td>\n",
       "      <td>2016 Feb 18</td>\n",
       "    </tr>\n",
       "    <tr>\n",
       "      <th>16116</th>\n",
       "      <td>please cite paper boëlle et al 2011 transmissi...</td>\n",
       "      <td>2011 Sep 31</td>\n",
       "    </tr>\n",
       "    <tr>\n",
       "      <th>435</th>\n",
       "      <td>background time variations transmission potent...</td>\n",
       "      <td>2007 Jun 4</td>\n",
       "    </tr>\n",
       "    <tr>\n",
       "      <th>493</th>\n",
       "      <td>background heightened increase concern influen...</td>\n",
       "      <td>2008 Jan 30</td>\n",
       "    </tr>\n",
       "    <tr>\n",
       "      <th>9375</th>\n",
       "      <td>hepatitis caused hepatitis virus occurs worldw...</td>\n",
       "      <td>2018 Sep 24</td>\n",
       "    </tr>\n",
       "    <tr>\n",
       "      <th>12915</th>\n",
       "      <td>objectives estimate transmissibility ice bucke...</td>\n",
       "      <td>2014 Dec 16</td>\n",
       "    </tr>\n",
       "    <tr>\n",
       "      <th>12914</th>\n",
       "      <td>objectives estimate transmissibility ice bucke...</td>\n",
       "      <td>2014 Dec 16</td>\n",
       "    </tr>\n",
       "    <tr>\n",
       "      <th>5512</th>\n",
       "      <td>background accurately assessing transmissibili...</td>\n",
       "      <td>2016 Feb 5</td>\n",
       "    </tr>\n",
       "    <tr>\n",
       "      <th>10819</th>\n",
       "      <td>background summer 2014 autochthonous outbreak ...</td>\n",
       "      <td>2019 Jun 21</td>\n",
       "    </tr>\n",
       "    <tr>\n",
       "      <th>10139</th>\n",
       "      <td>analysing new emerging infectious disease outb...</td>\n",
       "      <td>2019 Jan 16</td>\n",
       "    </tr>\n",
       "  </tbody>\n",
       "</table>\n",
       "</div>"
      ],
      "text/plain": [
       "                                                abstract publish_time\n",
       "13227  objectives outbreak middle eastern respiratory...  2016 Feb 18\n",
       "16116  please cite paper boëlle et al 2011 transmissi...  2011 Sep 31\n",
       "435    background time variations transmission potent...   2007 Jun 4\n",
       "493    background heightened increase concern influen...  2008 Jan 30\n",
       "9375   hepatitis caused hepatitis virus occurs worldw...  2018 Sep 24\n",
       "12915  objectives estimate transmissibility ice bucke...  2014 Dec 16\n",
       "12914  objectives estimate transmissibility ice bucke...  2014 Dec 16\n",
       "5512   background accurately assessing transmissibili...   2016 Feb 5\n",
       "10819  background summer 2014 autochthonous outbreak ...  2019 Jun 21\n",
       "10139  analysing new emerging infectious disease outb...  2019 Jan 16"
      ]
     },
     "execution_count": 103,
     "metadata": {},
     "output_type": "execute_result"
    }
   ],
   "source": [
    "meta_df1.loc[search(string5)][['abstract', 'publish_time']]"
   ]
  },
  {
   "cell_type": "code",
   "execution_count": 104,
   "metadata": {},
   "outputs": [
    {
     "data": {
      "text/html": [
       "<div>\n",
       "<style scoped>\n",
       "    .dataframe tbody tr th:only-of-type {\n",
       "        vertical-align: middle;\n",
       "    }\n",
       "\n",
       "    .dataframe tbody tr th {\n",
       "        vertical-align: top;\n",
       "    }\n",
       "\n",
       "    .dataframe thead th {\n",
       "        text-align: right;\n",
       "    }\n",
       "</style>\n",
       "<table border=\"1\" class=\"dataframe\">\n",
       "  <thead>\n",
       "    <tr style=\"text-align: right;\">\n",
       "      <th></th>\n",
       "      <th>abstract</th>\n",
       "      <th>publish_time</th>\n",
       "    </tr>\n",
       "  </thead>\n",
       "  <tbody>\n",
       "    <tr>\n",
       "      <th>8665</th>\n",
       "      <td>background respiratory syncytial virus rsv rec...</td>\n",
       "      <td>2018 May 4</td>\n",
       "    </tr>\n",
       "    <tr>\n",
       "      <th>3154</th>\n",
       "      <td>background 2009 severe fever thrombocytopenia ...</td>\n",
       "      <td>2013 Nov 13</td>\n",
       "    </tr>\n",
       "    <tr>\n",
       "      <th>1624</th>\n",
       "      <td>background hospitals often epicentres newly ci...</td>\n",
       "      <td>2011 Jul 8</td>\n",
       "    </tr>\n",
       "    <tr>\n",
       "      <th>3517</th>\n",
       "      <td>background influenza ah7n9 viruses isolated hu...</td>\n",
       "      <td>2014 Apr 15</td>\n",
       "    </tr>\n",
       "    <tr>\n",
       "      <th>4389</th>\n",
       "      <td>casecontrol study aimed assess risk factors de...</td>\n",
       "      <td>2015 Mar 16</td>\n",
       "    </tr>\n",
       "    <tr>\n",
       "      <th>6976</th>\n",
       "      <td>objectives renal involvement scrub typhus rang...</td>\n",
       "      <td>2017 Mar 15</td>\n",
       "    </tr>\n",
       "    <tr>\n",
       "      <th>10538</th>\n",
       "      <td>mycetoma neglected tropical disease endemic ma...</td>\n",
       "      <td>2019 Apr 4</td>\n",
       "    </tr>\n",
       "    <tr>\n",
       "      <th>1426</th>\n",
       "      <td>background streptococcus suis infection emergi...</td>\n",
       "      <td>2011 Mar 8</td>\n",
       "    </tr>\n",
       "    <tr>\n",
       "      <th>11416</th>\n",
       "      <td>background 2015 south korea experienced outbre...</td>\n",
       "      <td>2019 Oct 30</td>\n",
       "    </tr>\n",
       "    <tr>\n",
       "      <th>1726</th>\n",
       "      <td>background 31st march 2010 127000 confirmed ca...</td>\n",
       "      <td>2011 Oct 12</td>\n",
       "    </tr>\n",
       "  </tbody>\n",
       "</table>\n",
       "</div>"
      ],
      "text/plain": [
       "                                                abstract publish_time\n",
       "8665   background respiratory syncytial virus rsv rec...   2018 May 4\n",
       "3154   background 2009 severe fever thrombocytopenia ...  2013 Nov 13\n",
       "1624   background hospitals often epicentres newly ci...   2011 Jul 8\n",
       "3517   background influenza ah7n9 viruses isolated hu...  2014 Apr 15\n",
       "4389   casecontrol study aimed assess risk factors de...  2015 Mar 16\n",
       "6976   objectives renal involvement scrub typhus rang...  2017 Mar 15\n",
       "10538  mycetoma neglected tropical disease endemic ma...   2019 Apr 4\n",
       "1426   background streptococcus suis infection emergi...   2011 Mar 8\n",
       "11416  background 2015 south korea experienced outbre...  2019 Oct 30\n",
       "1726   background 31st march 2010 127000 confirmed ca...  2011 Oct 12"
      ]
     },
     "execution_count": 104,
     "metadata": {},
     "output_type": "execute_result"
    }
   ],
   "source": [
    "meta_df1.loc[search(string6)][['abstract', 'publish_time']]"
   ]
  },
  {
   "cell_type": "code",
   "execution_count": 105,
   "metadata": {},
   "outputs": [
    {
     "data": {
      "text/html": [
       "<div>\n",
       "<style scoped>\n",
       "    .dataframe tbody tr th:only-of-type {\n",
       "        vertical-align: middle;\n",
       "    }\n",
       "\n",
       "    .dataframe tbody tr th {\n",
       "        vertical-align: top;\n",
       "    }\n",
       "\n",
       "    .dataframe thead th {\n",
       "        text-align: right;\n",
       "    }\n",
       "</style>\n",
       "<table border=\"1\" class=\"dataframe\">\n",
       "  <thead>\n",
       "    <tr style=\"text-align: right;\">\n",
       "      <th></th>\n",
       "      <th>abstract</th>\n",
       "      <th>publish_time</th>\n",
       "    </tr>\n",
       "  </thead>\n",
       "  <tbody>\n",
       "    <tr>\n",
       "      <th>7215</th>\n",
       "      <td>objective tuberculosis tb caused infection myc...</td>\n",
       "      <td>2017 May 4</td>\n",
       "    </tr>\n",
       "    <tr>\n",
       "      <th>2828</th>\n",
       "      <td>genetic analysis pathogen genomes powerful app...</td>\n",
       "      <td>2013 Mar 19</td>\n",
       "    </tr>\n",
       "    <tr>\n",
       "      <th>4673</th>\n",
       "      <td>background bovine respiratory disease complex ...</td>\n",
       "      <td>2014 Dec 22</td>\n",
       "    </tr>\n",
       "    <tr>\n",
       "      <th>4671</th>\n",
       "      <td>background bovine respiratory disease complex ...</td>\n",
       "      <td>2014 Dec 22</td>\n",
       "    </tr>\n",
       "    <tr>\n",
       "      <th>4672</th>\n",
       "      <td>background bovine respiratory disease complex ...</td>\n",
       "      <td>2014 Dec 22</td>\n",
       "    </tr>\n",
       "    <tr>\n",
       "      <th>4670</th>\n",
       "      <td>background bovine respiratory disease complex ...</td>\n",
       "      <td>2014 Dec 22</td>\n",
       "    </tr>\n",
       "    <tr>\n",
       "      <th>4674</th>\n",
       "      <td>background bovine respiratory disease complex ...</td>\n",
       "      <td>2014 Dec 22</td>\n",
       "    </tr>\n",
       "    <tr>\n",
       "      <th>4676</th>\n",
       "      <td>background bovine respiratory disease complex ...</td>\n",
       "      <td>2014 Dec 22</td>\n",
       "    </tr>\n",
       "    <tr>\n",
       "      <th>4675</th>\n",
       "      <td>background bovine respiratory disease complex ...</td>\n",
       "      <td>2014 Dec 22</td>\n",
       "    </tr>\n",
       "    <tr>\n",
       "      <th>804</th>\n",
       "      <td>background pathogenesis severe acute respirato...</td>\n",
       "      <td>2009 May 1</td>\n",
       "    </tr>\n",
       "  </tbody>\n",
       "</table>\n",
       "</div>"
      ],
      "text/plain": [
       "                                               abstract publish_time\n",
       "7215  objective tuberculosis tb caused infection myc...   2017 May 4\n",
       "2828  genetic analysis pathogen genomes powerful app...  2013 Mar 19\n",
       "4673  background bovine respiratory disease complex ...  2014 Dec 22\n",
       "4671  background bovine respiratory disease complex ...  2014 Dec 22\n",
       "4672  background bovine respiratory disease complex ...  2014 Dec 22\n",
       "4670  background bovine respiratory disease complex ...  2014 Dec 22\n",
       "4674  background bovine respiratory disease complex ...  2014 Dec 22\n",
       "4676  background bovine respiratory disease complex ...  2014 Dec 22\n",
       "4675  background bovine respiratory disease complex ...  2014 Dec 22\n",
       "804   background pathogenesis severe acute respirato...   2009 May 1"
      ]
     },
     "execution_count": 105,
     "metadata": {},
     "output_type": "execute_result"
    }
   ],
   "source": [
    "meta_df1.loc[search(string7)][['abstract', 'publish_time']]"
   ]
  },
  {
   "cell_type": "code",
   "execution_count": 106,
   "metadata": {},
   "outputs": [
    {
     "data": {
      "text/html": [
       "<div>\n",
       "<style scoped>\n",
       "    .dataframe tbody tr th:only-of-type {\n",
       "        vertical-align: middle;\n",
       "    }\n",
       "\n",
       "    .dataframe tbody tr th {\n",
       "        vertical-align: top;\n",
       "    }\n",
       "\n",
       "    .dataframe thead th {\n",
       "        text-align: right;\n",
       "    }\n",
       "</style>\n",
       "<table border=\"1\" class=\"dataframe\">\n",
       "  <thead>\n",
       "    <tr style=\"text-align: right;\">\n",
       "      <th></th>\n",
       "      <th>abstract</th>\n",
       "      <th>publish_time</th>\n",
       "    </tr>\n",
       "  </thead>\n",
       "  <tbody>\n",
       "    <tr>\n",
       "      <th>14899</th>\n",
       "      <td>report results national survey conducted help ...</td>\n",
       "      <td>2008 May</td>\n",
       "    </tr>\n",
       "    <tr>\n",
       "      <th>14898</th>\n",
       "      <td>report results national survey conducted help ...</td>\n",
       "      <td>2008 May</td>\n",
       "    </tr>\n",
       "    <tr>\n",
       "      <th>16250</th>\n",
       "      <td>published guidance recommends controlled movem...</td>\n",
       "      <td>2017 Dec</td>\n",
       "    </tr>\n",
       "    <tr>\n",
       "      <th>14746</th>\n",
       "      <td>aerial spraying products kill larvae adult mos...</td>\n",
       "      <td>2020 Jan 25</td>\n",
       "    </tr>\n",
       "    <tr>\n",
       "      <th>10209</th>\n",
       "      <td>transmission infectious microbes via bioaeroso...</td>\n",
       "      <td>2019 Feb 21</td>\n",
       "    </tr>\n",
       "    <tr>\n",
       "      <th>2282</th>\n",
       "      <td>recently pointed institute medicine existing p...</td>\n",
       "      <td>2011 Jun 5</td>\n",
       "    </tr>\n",
       "    <tr>\n",
       "      <th>449</th>\n",
       "      <td>background influenza pandemic preparedness pla...</td>\n",
       "      <td>2007 Jul 13</td>\n",
       "    </tr>\n",
       "    <tr>\n",
       "      <th>1258</th>\n",
       "      <td>background emergence influenza h1n1v world fac...</td>\n",
       "      <td>2010 Sep 3</td>\n",
       "    </tr>\n",
       "    <tr>\n",
       "      <th>15151</th>\n",
       "      <td>recently pointed institute medicine existing p...</td>\n",
       "      <td>2010 Jul 7</td>\n",
       "    </tr>\n",
       "    <tr>\n",
       "      <th>7861</th>\n",
       "      <td>background 2006 malawi developed national infl...</td>\n",
       "      <td>2017 Jul 28</td>\n",
       "    </tr>\n",
       "  </tbody>\n",
       "</table>\n",
       "</div>"
      ],
      "text/plain": [
       "                                                abstract publish_time\n",
       "14899  report results national survey conducted help ...     2008 May\n",
       "14898  report results national survey conducted help ...     2008 May\n",
       "16250  published guidance recommends controlled movem...     2017 Dec\n",
       "14746  aerial spraying products kill larvae adult mos...  2020 Jan 25\n",
       "10209  transmission infectious microbes via bioaeroso...  2019 Feb 21\n",
       "2282   recently pointed institute medicine existing p...   2011 Jun 5\n",
       "449    background influenza pandemic preparedness pla...  2007 Jul 13\n",
       "1258   background emergence influenza h1n1v world fac...   2010 Sep 3\n",
       "15151  recently pointed institute medicine existing p...   2010 Jul 7\n",
       "7861   background 2006 malawi developed national infl...  2017 Jul 28"
      ]
     },
     "execution_count": 106,
     "metadata": {},
     "output_type": "execute_result"
    }
   ],
   "source": [
    "meta_df1.loc[search(string8)][['abstract', 'publish_time']]"
   ]
  },
  {
   "cell_type": "markdown",
   "metadata": {},
   "source": [
    "#### The above search is fast, but the search is only within the abstracts from meta data. If we have more memory, we can use the combined abstract and text data and search from text directly. It may significantly improve the query relevance score"
   ]
  }
 ],
 "metadata": {
  "kernelspec": {
   "display_name": "Python 3",
   "language": "python",
   "name": "python3"
  },
  "language_info": {
   "codemirror_mode": {
    "name": "ipython",
    "version": 3
   },
   "file_extension": ".py",
   "mimetype": "text/x-python",
   "name": "python",
   "nbconvert_exporter": "python",
   "pygments_lexer": "ipython3",
   "version": "3.7.6"
  }
 },
 "nbformat": 4,
 "nbformat_minor": 4
}
